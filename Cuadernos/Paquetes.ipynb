{
 "cells": [
  {
   "cell_type": "markdown",
   "metadata": {
    "colab_type": "text",
    "id": "NHyvNhPs-NDW"
   },
   "source": [
    "# Inspección, Instalación y Carga de Módulos y Paquetes\n",
    "\n",
    "Dependiendo del ambiente de trabajo usado, tenemos diferente cantidad de **paquetes** instalados.\n",
    "\n",
    "Hay una **forma** de ver qué paquetes existen en el ambiente actual sin salir del Notebook.\n",
    "\n",
    "Basta con colocar ```!<comando>``` en una celda de código.\n",
    "\n",
    "Dicho esto, ¿Qué es mejor, hacer todo desde el Prompt o el Notebook?\n",
    "\n",
    "*La elección si depende del gusto :)*\n",
    "\n",
    "**Ejemplo:**\n",
    "\n",
    "Verifiquemos que versión de Python estamos usando, qupe ambientes disponibles existen, cuál es el activo y qué paquetes están instalados, todo esto **sin salir del Notebook**."
   ]
  },
  {
   "cell_type": "code",
   "execution_count": 1,
   "metadata": {
    "colab": {
     "base_uri": "https://localhost:8080/",
     "height": 68
    },
    "colab_type": "code",
    "executionInfo": {
     "elapsed": 7228,
     "status": "ok",
     "timestamp": 1579910176981,
     "user": {
      "displayName": "daniel mauricio montenegro reyes",
      "photoUrl": "",
      "userId": "12701434767844263388"
     },
     "user_tz": 300
    },
    "id": "eLM-O1Ys-NDY",
    "outputId": "f2afbfa9-c30a-4b11-a2d6-e50ade489314"
   },
   "outputs": [
    {
     "name": "stdout",
     "output_type": "stream",
     "text": [
      "Python 3.7.6\n",
      " \n"
     ]
    }
   ],
   "source": [
    "# Recuerda que # es para usar comentarios\n",
    "!python --version # Versión Actual de Python siendo usada\n",
    "print(\" \")        # Función print para dar un salto de línea\n",
    "#!conda env list   # Lista de Ambientes Disponibles y Activo en el Notebook Linux"
   ]
  },
  {
   "cell_type": "code",
   "execution_count": 2,
   "metadata": {
    "colab": {},
    "colab_type": "code",
    "id": "ZgrVqMBM-NDc"
   },
   "outputs": [
    {
     "name": "stdout",
     "output_type": "stream",
     "text": [
      "# packages in environment at /home/moury/anaconda3/envs/tf2:\n",
      "#\n",
      "# Name                    Version                   Build  Channel\n",
      "_libgcc_mutex             0.1                        main  \n",
      "_tflow_select             2.3.0                       mkl  \n",
      "absl-py                   0.9.0                    py37_0    conda-forge\n",
      "astor                     0.7.1                      py_0    conda-forge\n",
      "attrs                     19.3.0                     py_0  \n",
      "backcall                  0.1.0                    py37_0  \n",
      "blas                      1.0                         mkl  \n",
      "bleach                    3.1.0                    py37_0  \n",
      "c-ares                    1.15.0            h516909a_1001    conda-forge\n",
      "ca-certificates           2019.11.28           hecc5488_0    conda-forge\n",
      "cachetools                4.0.0                    pypi_0    pypi\n",
      "certifi                   2019.11.28               py37_0    conda-forge\n",
      "chardet                   3.0.4                    pypi_0    pypi\n",
      "cycler                    0.10.0                   py37_0  \n",
      "dbus                      1.13.12              h746ee38_0  \n",
      "decorator                 4.4.1                      py_0  \n",
      "defusedxml                0.6.0                      py_0  \n",
      "entrypoints               0.3                      py37_0  \n",
      "expat                     2.2.6                he6710b0_0  \n",
      "fontconfig                2.13.0               h9420a91_0  \n",
      "freetype                  2.9.1                h8a8886c_1  \n",
      "gast                      0.2.2                      py_0    conda-forge\n",
      "glib                      2.63.1               h5a9c865_0  \n",
      "gmp                       6.1.2                h6c8ec71_1  \n",
      "google-auth               1.11.0                   pypi_0    pypi\n",
      "google-auth-oauthlib      0.4.1                    pypi_0    pypi\n",
      "google-pasta              0.1.8                      py_0    conda-forge\n",
      "grpcio                    1.23.0           py37he9ae1f9_0    conda-forge\n",
      "gst-plugins-base          1.14.0               hbbd80ab_1  \n",
      "gstreamer                 1.14.0               hb453b48_1  \n",
      "h5py                      2.10.0          nompi_py37h513d04c_102    conda-forge\n",
      "hdf5                      1.10.5          nompi_h3c11f04_1104    conda-forge\n",
      "icu                       58.2                 h9c2bf20_1  \n",
      "idna                      2.8                      pypi_0    pypi\n",
      "importlib_metadata        1.5.0                    py37_0  \n",
      "inflect                   4.1.0                    py37_0  \n",
      "intel-openmp              2020.0                      166  \n",
      "ipykernel                 5.1.4            py37h39e3cac_0  \n",
      "ipython                   7.12.0           py37h5ca1d4c_0  \n",
      "ipython_genutils          0.2.0                    py37_0  \n",
      "ipywidgets                7.5.1                      py_0  \n",
      "jaraco.itertools          5.0.0                      py_0  \n",
      "jedi                      0.16.0                   py37_0  \n",
      "jinja2                    2.11.1                     py_0  \n",
      "jpeg                      9b                   h024ee3a_2  \n",
      "json5                     0.9.0                      py_0  \n",
      "jsonschema                3.2.0                    py37_0  \n",
      "jupyter_client            5.3.4                    py37_0  \n",
      "jupyter_core              4.6.1                    py37_0  \n",
      "jupyterlab                1.2.4                      py_0    conda-forge\n",
      "jupyterlab_server         1.0.6                      py_0  \n",
      "keras-applications        1.0.8                      py_1    conda-forge\n",
      "keras-preprocessing       1.1.0                      py_0    conda-forge\n",
      "kiwisolver                1.1.0            py37he6710b0_0  \n",
      "ld_impl_linux-64          2.33.1               h53a641e_7  \n",
      "libedit                   3.1.20181209         hc058e9b_0  \n",
      "libffi                    3.2.1                hd88cf55_4  \n",
      "libgcc-ng                 9.1.0                hdf63c60_0  \n",
      "libgfortran-ng            7.3.0                hdf63c60_0  \n",
      "libpng                    1.6.37               hbc83047_0  \n",
      "libprotobuf               3.11.3               h8b12597_0    conda-forge\n",
      "libsodium                 1.0.16               h1bed415_0  \n",
      "libstdcxx-ng              9.1.0                hdf63c60_0  \n",
      "libuuid                   1.0.3                h1bed415_2  \n",
      "libxcb                    1.13                 h1bed415_1  \n",
      "libxml2                   2.9.9                hea5a465_1  \n",
      "markdown                  3.1.1                      py_0    conda-forge\n",
      "markupsafe                1.1.1            py37h7b6447c_0  \n",
      "matplotlib                3.1.1            py37h5429711_0  \n",
      "mistune                   0.8.4            py37h7b6447c_0  \n",
      "mkl                       2020.0                      166  \n",
      "mkl-service               2.3.0            py37he904b0f_0  \n",
      "mkl_fft                   1.0.15           py37ha843d7b_0  \n",
      "mkl_random                1.1.0            py37hd6b4f25_0  \n",
      "more-itertools            8.2.0                      py_0  \n",
      "nbconvert                 5.6.1                    py37_0  \n",
      "nbformat                  5.0.4                      py_0  \n",
      "ncurses                   6.1                  he6710b0_1  \n",
      "nodejs                    11.14.0              he1b5a44_1    conda-forge\n",
      "notebook                  6.0.3                    py37_0  \n",
      "numpy                     1.18.1           py37h4f9e942_0  \n",
      "numpy-base                1.18.1           py37hde5b4d6_1  \n",
      "oauthlib                  3.1.0                    pypi_0    pypi\n",
      "openssl                   1.1.1d               h516909a_0    conda-forge\n",
      "opt-einsum                3.1.0                    pypi_0    pypi\n",
      "pandas                    1.0.0            py37h0573a6f_0  \n",
      "pandoc                    2.2.3.2                       0  \n",
      "pandocfilters             1.4.2                    py37_1  \n",
      "parso                     0.6.0                      py_0  \n",
      "pcre                      8.43                 he6710b0_0  \n",
      "pexpect                   4.8.0                    py37_0  \n",
      "pickleshare               0.7.5                    py37_0  \n",
      "pip                       20.0.2                   py37_1  \n",
      "prometheus_client         0.7.1                      py_0  \n",
      "prompt_toolkit            3.0.3                      py_0  \n",
      "protobuf                  3.11.3           py37he1b5a44_0    conda-forge\n",
      "ptyprocess                0.6.0                    py37_0  \n",
      "pyasn1                    0.4.8                    pypi_0    pypi\n",
      "pyasn1-modules            0.2.8                    pypi_0    pypi\n",
      "pygments                  2.5.2                      py_0  \n",
      "pyparsing                 2.4.6                      py_0  \n",
      "pyqt                      5.9.2            py37h05f1152_2  \n",
      "pyrsistent                0.15.7           py37h7b6447c_0  \n",
      "python                    3.7.6                h0371630_2  \n",
      "python-dateutil           2.8.1                      py_0  \n",
      "pytz                      2019.3                     py_0  \n",
      "pyzmq                     18.1.1           py37he6710b0_0  \n",
      "qt                        5.9.7                h5867ecd_1  \n",
      "readline                  7.0                  h7b6447c_5  \n",
      "requests                  2.22.0                   pypi_0    pypi\n",
      "requests-oauthlib         1.3.0                    pypi_0    pypi\n",
      "rsa                       4.0                      pypi_0    pypi\n",
      "scipy                     1.4.1            py37h0b6359f_0  \n",
      "send2trash                1.5.0                    py37_0  \n",
      "setuptools                45.1.0                   py37_0  \n",
      "sip                       4.19.8           py37hf484d3e_0  \n",
      "six                       1.14.0                   py37_0  \n",
      "sqlite                    3.31.1               h7b6447c_0  \n",
      "tensorboard               2.1.0                    pypi_0    pypi\n",
      "tensorflow                2.1.0                    pypi_0    pypi\n",
      "tensorflow-estimator      2.1.0                    pypi_0    pypi\n",
      "termcolor                 1.1.0                      py_2    conda-forge\n",
      "terminado                 0.8.3                    py37_0  \n",
      "testpath                  0.4.4                      py_0  \n",
      "tk                        8.6.8                hbc83047_0  \n",
      "tornado                   6.0.3            py37h7b6447c_1  \n",
      "traitlets                 4.3.3                    py37_0  \n",
      "urllib3                   1.25.8                   pypi_0    pypi\n",
      "wcwidth                   0.1.8                      py_0  \n",
      "webencodings              0.5.1                    py37_1  \n",
      "werkzeug                  0.16.1                     py_0    conda-forge\n",
      "wheel                     0.34.2                   py37_0  \n",
      "widgetsnbextension        3.5.1                    py37_0  \n",
      "wrapt                     1.11.2           py37h516909a_0    conda-forge\n",
      "xz                        5.2.4                h14c3975_4  \n",
      "zeromq                    4.3.1                he6710b0_3  \n",
      "zipp                      2.1.0                      py_0  \n",
      "zlib                      1.2.11               h7b6447c_3  \n"
     ]
    }
   ],
   "source": [
    "!conda list"
   ]
  },
  {
   "cell_type": "markdown",
   "metadata": {
    "colab_type": "text",
    "id": "Ysmfper4-NDe"
   },
   "source": [
    "Dentro de cada uno de estos paquetes se encuentran **modulos**, que juntos forman la librería de módulos disponibles en el ambiente de trabajo.\n",
    "\n",
    "**¿Qué es un módulo?**\n",
    "\n",
    "Un módulo es un archivo que tiene extensión *.py*, es decir, es un archivo de texto que tiene adentro código de python que se puede ejecutar. Un módulo puede definir funciones, clases y variables.\n",
    "\n",
    "Cabe resaltar lo siguiente: **Python es un lenguaje de programación orientado a objetos**.\n",
    "\n",
    "Para términos de visualización, imagínese una caja que tiene muchas cajas por dentro y dentro de cada caja existen herramientas de trabajo distintas.\n",
    "\n",
    "**Ejemplo:**\n",
    "\n",
    "Mi maleta. Mi maleta tiene dentro lo siguiente:\n",
    "\n",
    "- Una cartuchera.\n",
    "- Un computador.\n",
    "- Un cuaderno.\n",
    "\n",
    "Los roles serían los siguientes:\n",
    "\n",
    "- Maleta     $\\rightarrow$ Paquete\n",
    "- Cartuchera $\\rightarrow$ Módulo\n",
    "- Cuaderno   $\\rightarrow$ Módulo\n",
    "\n",
    "Entonces, si queremos usar la cartuchera, debemos primero abrir la maleta y tomarla.\n",
    "\n",
    "**O sea, del paquete, vamos a usar un módulo**.\n",
    "\n",
    "Dentro de la cartuchera tengo marcadores, lápices, y borrador.\n",
    "\n",
    "Estos toman el rol de **atributos**, objetos que hacen tareas específicas.\n",
    "\n",
    "Por tanto, si quiero usar un borrador, debería hacer lo siguiente\n",
    "\n",
    "Abrir maleta $\\rightarrow$ Tomar cartuchera $\\rightarrow$ Abrir Cartuchera $\\rightarrow$ Tomar Borrador\n",
    "\n",
    "En Python, estas acciones se pueden **traducir** a lo siguiente:\n",
    "\n",
    "```import Maleta```\n",
    "\n",
    "```Maleta.Cartuchera.Borrador()```\n",
    "\n",
    "Para saber qué módulos están disponibles en el ambiente de trabajo, basta con usar el siguiente comando:"
   ]
  },
  {
   "cell_type": "code",
   "execution_count": 3,
   "metadata": {
    "colab": {},
    "colab_type": "code",
    "id": "U3N2nKHs-NDf"
   },
   "outputs": [
    {
     "name": "stdout",
     "output_type": "stream",
     "text": [
      "\n",
      "Please wait a moment while I gather a list of all available modules...\n",
      "\n"
     ]
    },
    {
     "name": "stderr",
     "output_type": "stream",
     "text": [
      "/home/moury/anaconda3/envs/tf2/lib/python3.7/site-packages/IPython/kernel/__init__.py:13: ShimWarning: The `IPython.kernel` package has been deprecated since IPython 4.0.You should import from ipykernel or jupyter_client instead.\n",
      "  \"You should import from ipykernel or jupyter_client instead.\", ShimWarning)\n"
     ]
    },
    {
     "name": "stdout",
     "output_type": "stream",
     "text": [
      "IPython             autoreload          json5               runpy\n",
      "PyQt5               backcall            jsonschema          sched\n",
      "__future__          base64              jupyter             scipy\n",
      "_abc                bdb                 jupyter_client      secrets\n",
      "_ast                binascii            jupyter_core        select\n",
      "_asyncio            binhex              jupyterlab          selectors\n",
      "_bisect             bisect              jupyterlab_server   send2trash\n",
      "_blake2             bleach              keras_applications  setuptools\n",
      "_bootlocale         builtins            keras_preprocessing shelve\n",
      "_bz2                bz2                 keyword             shlex\n",
      "_codecs             cProfile            kiwisolver          shutil\n",
      "_codecs_cn          cachetools          lib2to3             signal\n",
      "_codecs_hk          calendar            linecache           sip\n",
      "_codecs_iso2022     certifi             locale              sipconfig\n",
      "_codecs_jp          cgi                 logging             sipdistutils\n",
      "_codecs_kr          cgitb               lzma                site\n",
      "_codecs_tw          chardet             macpath             six\n",
      "_collections        chunk               mailbox             smtpd\n",
      "_collections_abc    cmath               mailcap             smtplib\n",
      "_compat_pickle      cmd                 markdown            sndhdr\n",
      "_compression        code                markupsafe          socket\n",
      "_contextvars        codecs              marshal             socketserver\n",
      "_crypt              codeop              math                spwd\n",
      "_csv                collections         matplotlib          sqlite3\n",
      "_ctypes             colorsys            mimetypes           sre_compile\n",
      "_ctypes_test        compileall          mistune             sre_constants\n",
      "_curses             concurrent          mkl                 sre_parse\n",
      "_curses_panel       configparser        mkl_fft             ssl\n",
      "_datetime           contextlib          mkl_random          stat\n",
      "_decimal            contextvars         mmap                statistics\n",
      "_dummy_thread       copy                modulefinder        storemagic\n",
      "_elementtree        copyreg             more_itertools      string\n",
      "_functools          crypt               multiprocessing     stringprep\n",
      "_hashlib            csv                 nbconvert           struct\n",
      "_heapq              ctypes              nbformat            subprocess\n",
      "_imp                curses              netrc               sunau\n",
      "_io                 cycler              nis                 symbol\n",
      "_json               cythonmagic         nntplib             sympyprinting\n",
      "_locale             dataclasses         notebook            symtable\n",
      "_lsprof             datetime            ntpath              sys\n",
      "_lzma               dateutil            nturl2path          sysconfig\n",
      "_markupbase         dbm                 numbers             syslog\n",
      "_md5                decimal             numpy               tabnanny\n",
      "_multibytecodec     decorator           oauthlib            tarfile\n",
      "_multiprocessing    defusedxml          opcode              telnetlib\n",
      "_opcode             difflib             operator            tempfile\n",
      "_operator           dis                 opt_einsum          tensorboard\n",
      "_osx_support        distutils           optparse            tensorflow\n",
      "_pickle             doctest             os                  tensorflow_core\n",
      "_posixsubprocess    dummy_threading     ossaudiodev         tensorflow_estimator\n",
      "_py_abc             easy_install        pandas              termcolor\n",
      "_pydecimal          email               pandocfilters       terminado\n",
      "_pyio               encodings           parser              termios\n",
      "_pyrsistent_version ensurepip           parso               test\n",
      "_queue              entrypoints         pasta               testpath\n",
      "_random             enum                pathlib             tests\n",
      "_sha1               errno               pdb                 textwrap\n",
      "_sha256             faulthandler        pexpect             this\n",
      "_sha3               fcntl               pickle              threading\n",
      "_sha512             filecmp             pickleshare         time\n",
      "_signal             fileinput           pickletools         timeit\n",
      "_sitebuiltins       fnmatch             pip                 tkinter\n",
      "_socket             formatter           pipes               token\n",
      "_sqlite3            fractions           pkg_resources       tokenize\n",
      "_sre                ftplib              pkgutil             tornado\n",
      "_ssl                functools           platform            trace\n",
      "_stat               gast                plistlib            traceback\n",
      "_string             gc                  poplib              tracemalloc\n",
      "_strptime           genericpath         posix               traitlets\n",
      "_struct             getopt              posixpath           tty\n",
      "_symtable           getpass             pprint              turtle\n",
      "_sysconfigdata_aarch64_conda_cos7_linux_gnu gettext             profile             turtledemo\n",
      "_sysconfigdata_i686_conda_cos6_linux_gnu glob                prometheus_client   types\n",
      "_sysconfigdata_m_linux_x86_64-linux-gnu google_auth_oauthlib prompt_toolkit      typing\n",
      "_sysconfigdata_powerpc64le_conda_cos7_linux_gnu grp                 pstats              unicodedata\n",
      "_sysconfigdata_x86_64_apple_darwin13_4_0 grpc                pty                 unittest\n",
      "_sysconfigdata_x86_64_conda_cos6_linux_gnu gzip                ptyprocess          urllib\n",
      "_testbuffer         h5py                pvectorc            urllib3\n",
      "_testcapi           hashlib             pwd                 uu\n",
      "_testimportmultiple heapq               py_compile          uuid\n",
      "_testmultiphase     hmac                pyasn1              venv\n",
      "_thread             html                pyasn1_modules      warnings\n",
      "_threading_local    http                pyclbr              wave\n",
      "_tkinter            idlelib             pydoc               wcwidth\n",
      "_tracemalloc        idna                pydoc_data          weakref\n",
      "_warnings           imaplib             pyexpat             webbrowser\n",
      "_weakref            imghdr              pygments            webencodings\n",
      "_weakrefset         imp                 pylab               werkzeug\n",
      "_xxtestfuzz         importlib           pyparsing           wheel\n",
      "abc                 importlib_metadata  pyrsistent          widgetsnbextension\n",
      "absl                inflect             pytz                wrapt\n",
      "aifc                inspect             queue               wsgiref\n",
      "antigravity         io                  quopri              xdrlib\n",
      "argparse            ipaddress           random              xml\n",
      "array               ipykernel           re                  xmlrpc\n",
      "ast                 ipykernel_launcher  readline            xxlimited\n",
      "astor               ipython_genutils    reprlib             xxsubtype\n",
      "asynchat            ipywidgets          requests            zipapp\n",
      "asyncio             itertools           requests_oauthlib   zipfile\n",
      "asyncore            jaraco              resource            zipimport\n",
      "atexit              jedi                rlcompleter         zipp\n",
      "attr                jinja2              rmagic              zlib\n",
      "audioop             json                rsa                 zmq\n",
      "\n",
      "Enter any module name to get more help.  Or, type \"modules spam\" to search\n",
      "for modules whose name or summary contain the string \"spam\".\n",
      "\n"
     ]
    },
    {
     "name": "stderr",
     "output_type": "stream",
     "text": [
      "/home/moury/anaconda3/envs/tf2/lib/python3.7/pkgutil.py:107: VisibleDeprecationWarning: zmq.eventloop.minitornado is deprecated in pyzmq 14.0 and will be removed.\n",
      "    Install tornado itself to use zmq with the tornado IOLoop.\n",
      "    \n",
      "  yield from walk_packages(path, info.name+'.', onerror)\n"
     ]
    }
   ],
   "source": [
    "help(\"modules\")"
   ]
  },
  {
   "cell_type": "markdown",
   "metadata": {
    "colab_type": "text",
    "id": "9KaScJd5-NDh"
   },
   "source": [
    "**Parece que es una lista bastante larga...**\n",
    "\n",
    "Veamos alguna documentación de alguno de los módulos y sus atributos.\n",
    "\n",
    "Por ejemplo random."
   ]
  },
  {
   "cell_type": "code",
   "execution_count": 4,
   "metadata": {
    "colab": {},
    "colab_type": "code",
    "id": "EwrihqyM-NDh"
   },
   "outputs": [],
   "source": [
    "#help(\"random\") # Muestra toda la documentación\n",
    "\n",
    "import random\n",
    "\n",
    "#?random # Muestra una pequeña documentación"
   ]
  },
  {
   "cell_type": "markdown",
   "metadata": {
    "colab_type": "text",
    "id": "VHC2Wr2p-NDk"
   },
   "source": [
    "Para acceder a los atributos del mósulo, basta colocar ```dir(modulo)```"
   ]
  },
  {
   "cell_type": "code",
   "execution_count": 5,
   "metadata": {
    "colab": {},
    "colab_type": "code",
    "id": "enWNETIy-NDk"
   },
   "outputs": [
    {
     "data": {
      "text/plain": [
       "['BPF',\n",
       " 'LOG4',\n",
       " 'NV_MAGICCONST',\n",
       " 'RECIP_BPF',\n",
       " 'Random',\n",
       " 'SG_MAGICCONST',\n",
       " 'SystemRandom',\n",
       " 'TWOPI',\n",
       " '_BuiltinMethodType',\n",
       " '_MethodType',\n",
       " '_Sequence',\n",
       " '_Set',\n",
       " '__all__',\n",
       " '__builtins__',\n",
       " '__cached__',\n",
       " '__doc__',\n",
       " '__file__',\n",
       " '__loader__',\n",
       " '__name__',\n",
       " '__package__',\n",
       " '__spec__',\n",
       " '_acos',\n",
       " '_bisect',\n",
       " '_ceil',\n",
       " '_cos',\n",
       " '_e',\n",
       " '_exp',\n",
       " '_inst',\n",
       " '_itertools',\n",
       " '_log',\n",
       " '_os',\n",
       " '_pi',\n",
       " '_random',\n",
       " '_sha512',\n",
       " '_sin',\n",
       " '_sqrt',\n",
       " '_test',\n",
       " '_test_generator',\n",
       " '_urandom',\n",
       " '_warn',\n",
       " 'betavariate',\n",
       " 'choice',\n",
       " 'choices',\n",
       " 'expovariate',\n",
       " 'gammavariate',\n",
       " 'gauss',\n",
       " 'getrandbits',\n",
       " 'getstate',\n",
       " 'lognormvariate',\n",
       " 'normalvariate',\n",
       " 'paretovariate',\n",
       " 'randint',\n",
       " 'random',\n",
       " 'randrange',\n",
       " 'sample',\n",
       " 'seed',\n",
       " 'setstate',\n",
       " 'shuffle',\n",
       " 'triangular',\n",
       " 'uniform',\n",
       " 'vonmisesvariate',\n",
       " 'weibullvariate']"
      ]
     },
     "execution_count": 5,
     "metadata": {},
     "output_type": "execute_result"
    }
   ],
   "source": [
    "dir(random)"
   ]
  },
  {
   "cell_type": "markdown",
   "metadata": {
    "colab_type": "text",
    "id": "wiM6us6L-NDn"
   },
   "source": [
    "Vaya que la lista sigue siendo larga...\n",
    "\n",
    "Sigamos metiendo dentro de cada cosa (algún día llegaremos al fin...no?)"
   ]
  },
  {
   "cell_type": "code",
   "execution_count": 6,
   "metadata": {
    "colab": {},
    "colab_type": "code",
    "id": "PySeb2Wk-NDo"
   },
   "outputs": [
    {
     "data": {
      "text/plain": [
       "\u001b[0;31mDocstring:\u001b[0m random() -> x in the interval [0, 1).\n",
       "\u001b[0;31mType:\u001b[0m      builtin_function_or_method\n"
      ]
     },
     "metadata": {},
     "output_type": "display_data"
    }
   ],
   "source": [
    "?random.random"
   ]
  },
  {
   "cell_type": "markdown",
   "metadata": {
    "colab_type": "text",
    "id": "X1_wQC94-NDq"
   },
   "source": [
    "**Bingo!** Al fin algo que podemos usar:"
   ]
  },
  {
   "cell_type": "code",
   "execution_count": 7,
   "metadata": {
    "colab": {},
    "colab_type": "code",
    "id": "xnMlKKRG-NDq"
   },
   "outputs": [
    {
     "name": "stdout",
     "output_type": "stream",
     "text": [
      "Número aleatorio en [0,1]:  0.673482013112875\n"
     ]
    }
   ],
   "source": [
    "x = random.random()\n",
    "print(\"Número aleatorio en [0,1]: \",x)"
   ]
  },
  {
   "cell_type": "code",
   "execution_count": 8,
   "metadata": {
    "colab": {},
    "colab_type": "code",
    "id": "KchaPexs-NDs"
   },
   "outputs": [
    {
     "data": {
      "text/plain": [
       "\u001b[0;31mSignature:\u001b[0m \u001b[0mrandom\u001b[0m\u001b[0;34m.\u001b[0m\u001b[0mrandint\u001b[0m\u001b[0;34m(\u001b[0m\u001b[0ma\u001b[0m\u001b[0;34m,\u001b[0m \u001b[0mb\u001b[0m\u001b[0;34m)\u001b[0m\u001b[0;34m\u001b[0m\u001b[0;34m\u001b[0m\u001b[0m\n",
       "\u001b[0;31mDocstring:\u001b[0m\n",
       "Return random integer in range [a, b], including both end points.\n",
       "        \n",
       "\u001b[0;31mFile:\u001b[0m      ~/anaconda3/envs/tf2/lib/python3.7/random.py\n",
       "\u001b[0;31mType:\u001b[0m      method\n"
      ]
     },
     "metadata": {},
     "output_type": "display_data"
    }
   ],
   "source": [
    "?random.randint"
   ]
  },
  {
   "cell_type": "code",
   "execution_count": 9,
   "metadata": {
    "colab": {},
    "colab_type": "code",
    "id": "AKKSIXOr-NDv"
   },
   "outputs": [
    {
     "name": "stdout",
     "output_type": "stream",
     "text": [
      "Número entero aleatorio entre 3 y 6:  4\n"
     ]
    }
   ],
   "source": [
    "y=random.randint(3,6)\n",
    "print(\"Número entero aleatorio entre 3 y 6: \",y)"
   ]
  },
  {
   "cell_type": "markdown",
   "metadata": {
    "colab_type": "text",
    "id": "uwdXWH3c-NDx"
   },
   "source": [
    "# Alias para módulos\n",
    "\n",
    "Otra propiedad genial de Python es su capacidad para reducir la cantidad de código escrito usando unos secretos milenarios: aliases.\n",
    "\n",
    "Por ejemplo, si me llamo Daniel, mi **alias** puede ser Dani.\n",
    "\n",
    "Entonces, acada vez que me digan Dani, yo miraré en respuesta.\n",
    "\n",
    "Traducir a Python luce así:\n",
    "\n",
    "```import modulo as alias```\n",
    "\n",
    "**Ejemplo:**"
   ]
  },
  {
   "cell_type": "code",
   "execution_count": 10,
   "metadata": {
    "colab": {},
    "colab_type": "code",
    "id": "Dr0ek4Hq-NDy"
   },
   "outputs": [
    {
     "data": {
      "text/plain": [
       "['__doc__',\n",
       " '__file__',\n",
       " '__loader__',\n",
       " '__name__',\n",
       " '__package__',\n",
       " '__spec__',\n",
       " 'acos',\n",
       " 'acosh',\n",
       " 'asin',\n",
       " 'asinh',\n",
       " 'atan',\n",
       " 'atan2',\n",
       " 'atanh',\n",
       " 'ceil',\n",
       " 'copysign',\n",
       " 'cos',\n",
       " 'cosh',\n",
       " 'degrees',\n",
       " 'e',\n",
       " 'erf',\n",
       " 'erfc',\n",
       " 'exp',\n",
       " 'expm1',\n",
       " 'fabs',\n",
       " 'factorial',\n",
       " 'floor',\n",
       " 'fmod',\n",
       " 'frexp',\n",
       " 'fsum',\n",
       " 'gamma',\n",
       " 'gcd',\n",
       " 'hypot',\n",
       " 'inf',\n",
       " 'isclose',\n",
       " 'isfinite',\n",
       " 'isinf',\n",
       " 'isnan',\n",
       " 'ldexp',\n",
       " 'lgamma',\n",
       " 'log',\n",
       " 'log10',\n",
       " 'log1p',\n",
       " 'log2',\n",
       " 'modf',\n",
       " 'nan',\n",
       " 'pi',\n",
       " 'pow',\n",
       " 'radians',\n",
       " 'remainder',\n",
       " 'sin',\n",
       " 'sinh',\n",
       " 'sqrt',\n",
       " 'tan',\n",
       " 'tanh',\n",
       " 'tau',\n",
       " 'trunc']"
      ]
     },
     "execution_count": 10,
     "metadata": {},
     "output_type": "execute_result"
    }
   ],
   "source": [
    "import math as m\n",
    "\n",
    "# Una vez nombrado el alias, siempre se debe referir a ese alias y no al nombre principal\n",
    "\n",
    "dir(m)    #dir(math) genera error"
   ]
  },
  {
   "cell_type": "markdown",
   "metadata": {
    "colab_type": "text",
    "id": "c4nWmwgO-ND0"
   },
   "source": [
    "# Aplicación:\n",
    "\n",
    "Una pequeña aplicación de Matemáticas:\n",
    "\n",
    "**Área de una circunferencia de radio r:**\n",
    "\n",
    "$A = \\pi r²$"
   ]
  },
  {
   "cell_type": "code",
   "execution_count": 11,
   "metadata": {
    "colab": {},
    "colab_type": "code",
    "id": "ksUNn8WQ-ND0"
   },
   "outputs": [
    {
     "name": "stdout",
     "output_type": "stream",
     "text": [
      "El Área del círculo es:  314.1592653589793 cm²\n"
     ]
    }
   ],
   "source": [
    "# Aplicación: Área de un círculo de radio 10 cm \n",
    "\n",
    "r = 10;          # Declarar el radio\n",
    "z = m.pi*(r**2)  # Escribir la fórmula matemática\n",
    "print(\"El Área del círculo es: \",z,\"cm²\")"
   ]
  },
  {
   "cell_type": "markdown",
   "metadata": {
    "colab_type": "text",
    "id": "EjlNxo93-ND3"
   },
   "source": [
    "Como pueden observar, los módulos son el **alma de Python**.\n",
    "\n",
    "# Tareas:\n",
    "\n",
    "- Conocer los 10 módulos de Python más usados.\n",
    "- Hacer un ejercicio práctico con cada módulo investigado.\n",
    "- Investigar si es posible crear un módulo de Python. En caso afirmativo, crear uno simple.\n",
    "- Explicar la lógica subyacente de la siguiente línea:"
   ]
  },
  {
   "cell_type": "code",
   "execution_count": 12,
   "metadata": {
    "colab": {},
    "colab_type": "code",
    "id": "smXggFjI-ND3"
   },
   "outputs": [
    {
     "name": "stdout",
     "output_type": "stream",
     "text": [
      "314.1592653589793\n"
     ]
    }
   ],
   "source": [
    "# You Must Reset Kernel 0,0\n",
    "\n",
    "from math import pi\n",
    "\n",
    "A = pi*r**2\n",
    "\n",
    "print(A)"
   ]
  },
  {
   "cell_type": "code",
   "execution_count": 13,
   "metadata": {
    "colab": {},
    "colab_type": "code",
    "id": "9aWXXD3O-ND6"
   },
   "outputs": [
    {
     "ename": "NameError",
     "evalue": "name 'math' is not defined",
     "output_type": "error",
     "traceback": [
      "\u001b[0;31m----------------------------------------------------------------------\u001b[0m",
      "\u001b[0;31mNameError\u001b[0m                            Traceback (most recent call last)",
      "\u001b[0;32m<ipython-input-13-c49acc181da4>\u001b[0m in \u001b[0;36m<module>\u001b[0;34m\u001b[0m\n\u001b[0;32m----> 1\u001b[0;31m \u001b[0mmath\u001b[0m\u001b[0;34m.\u001b[0m\u001b[0mpi\u001b[0m\u001b[0;34m\u001b[0m\u001b[0;34m\u001b[0m\u001b[0m\n\u001b[0m",
      "\u001b[0;31mNameError\u001b[0m: name 'math' is not defined"
     ]
    }
   ],
   "source": [
    "math.pi"
   ]
  },
  {
   "cell_type": "markdown",
   "metadata": {
    "colab_type": "text",
    "id": "b5CfhNZJ-ND8"
   },
   "source": [
    "# Bonus: Fractales\n",
    "\n",
    "Usando un módulo llamado ```turtle``` podemos crear un árbolito bonito."
   ]
  },
  {
   "cell_type": "code",
   "execution_count": null,
   "metadata": {
    "colab": {},
    "colab_type": "code",
    "id": "Wqayl5NU-ND8"
   },
   "outputs": [],
   "source": [
    "import turtle\n",
    "\n",
    "def tree(length,n):\n",
    "    if length < (length/n):\n",
    "        return\n",
    "    turtle.forward(length)\n",
    "    turtle.left(45)\n",
    "    tree(length * 0.5,length/n)\n",
    "    turtle.left(20)\n",
    "    tree(length * 0.5,length/n)\n",
    "    turtle.right(75)\n",
    "    tree(length * 0.5,length/n)\n",
    "    turtle.right(20)\n",
    "    tree(length * 0.5,length/n)\n",
    "    turtle.left(30)\n",
    "    turtle.backward(length)\n",
    "    return\n",
    "\n",
    "turtle.left(90)\n",
    "turtle.backward(30)\n",
    "tree(200,4)"
   ]
  },
  {
   "cell_type": "markdown",
   "metadata": {
    "colab_type": "text",
    "id": "KW6t1aZG-ND_"
   },
   "source": [
    "Y también formas que tienen forma de pedazos de copitos de nieve (Koch Curve):"
   ]
  },
  {
   "cell_type": "code",
   "execution_count": null,
   "metadata": {
    "colab": {},
    "colab_type": "code",
    "id": "bxFm2p5--ND_"
   },
   "outputs": [],
   "source": [
    "from turtle import *\n",
    "\n",
    "def Recursive_Koch(length, depth):\n",
    "    if depth == 0:\n",
    "        forward(length)\n",
    "    else:\n",
    "        Recursive_Koch(length, depth-1)\n",
    "        right(60)\n",
    "        Recursive_Koch(length, depth-1)\n",
    "        left(120)\n",
    "        #Recursive_Koch(length, depth-1)\n",
    "        Recursive_Koch(length, depth-1)\n",
    "        right(60)\n",
    "        Recursive_Koch(length, depth-1)\n",
    "        \n",
    "# ----------\n",
    "Recursive_Koch(3, 6)"
   ]
  }
 ],
 "metadata": {
  "colab": {
   "name": "Paquetes.ipynb",
   "provenance": []
  },
  "kernelspec": {
   "display_name": "Python 3",
   "language": "python",
   "name": "python3"
  },
  "language_info": {
   "codemirror_mode": {
    "name": "ipython",
    "version": 3
   },
   "file_extension": ".py",
   "mimetype": "text/x-python",
   "name": "python",
   "nbconvert_exporter": "python",
   "pygments_lexer": "ipython3",
   "version": "3.7.6"
  }
 },
 "nbformat": 4,
 "nbformat_minor": 4
}
