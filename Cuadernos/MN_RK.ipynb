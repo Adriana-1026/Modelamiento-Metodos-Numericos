{
 "cells": [
  {
   "cell_type": "markdown",
   "metadata": {},
   "source": [
    "# El Método de Runge-Kutta"
   ]
  },
  {
   "cell_type": "markdown",
   "metadata": {},
   "source": [
    "## Introducción"
   ]
  },
  {
   "cell_type": "markdown",
   "metadata": {},
   "source": [
    "Nos hemos dado cuenta que **es posible que el método de Euler falle**.\n",
    "\n",
    "Por esto, nos disponemos a crear otro método numérico que sea más apropiado en una amplia gama de problemas.\n",
    "\n",
    "Para visualizar a lo que se comenta, observe la siguiente imagen (tomada de [Wikipedia](https://upload.wikimedia.org/wikipedia/commons/thumb/0/00/Runge-kutta.svg/1024px-Runge-kutta.svg.png)):\n",
    "\n",
    "![Metodos](https://upload.wikimedia.org/wikipedia/commons/thumb/0/00/Runge-kutta.svg/1024px-Runge-kutta.svg.png)\n",
    "\n",
    "De esta imagen podemos observar que, entre todos los métodos numéricos mostrados, Euler es el que tiene la aproximación más pobre (suponiendo que tenemos nuestra solución exacta, claro).\n",
    "\n",
    "En este sección veremos el famoso método numérico conocido como **Runge-Kutta**."
   ]
  },
  {
   "cell_type": "markdown",
   "metadata": {},
   "source": [
    "Recordemos, nuestro problema principal es\n",
    "\n",
    "$$\\frac{dx}{dt}=f(t,x),\\text{     }x(t_{0})=x_{0}$$\n",
    "\n",
    "esto es, la tasa de cambio instantáneo de la cantidad dependiente $x$, se puede modelar mediante la función $f(t,x)$. Además el experimento comienza en el momento $t_0$ con una cantidad inicial $x_0$ de la cantidad $x$."
   ]
  },
  {
   "cell_type": "markdown",
   "metadata": {},
   "source": [
    "## Procedimiento"
   ]
  },
  {
   "cell_type": "markdown",
   "metadata": {},
   "source": [
    "### Algoritmo"
   ]
  },
  {
   "cell_type": "markdown",
   "metadata": {},
   "source": [
    "Tomado de [wiki](https://en.wikipedia.org/wiki/Runge%E2%80%93Kutta_methods), podemos resumir el método numérico como:\n",
    "\n",
    "$$\n",
    "\\begin{split}\n",
    "k_1 &=f(t_i,x_i) \\\\\n",
    "k_2 &=f\\biggl(t_i+\\frac{h}{2},x_i+h\\frac{k_1}{2}\\biggr) \\\\\n",
    "k_3 &=f\\biggl(t_i+\\frac{h}{2},x_i+h\\frac{k_1}{2}\\biggr) \\\\\n",
    "k_4 &=f\\bigl(t_i+h,x_i+hk_3\\bigr) \\\\\n",
    "x_{i+1} &= x_i+\\frac{1}{6}h\\bigl(k_1+2k_2+2k_3+k_4\\bigr) \\\\\n",
    "\\end{split}\n",
    "$$"
   ]
  },
  {
   "cell_type": "markdown",
   "metadata": {},
   "source": [
    "### Implementación"
   ]
  },
  {
   "cell_type": "markdown",
   "metadata": {},
   "source": [
    "**Por favor, documentar adecuadamente el siguiente código:**"
   ]
  },
  {
   "cell_type": "code",
   "execution_count": 2,
   "metadata": {},
   "outputs": [],
   "source": [
    "def RK4(f,x0,t0,tf,n):\n",
    "    t=np.linspace(t0,tf,n)\n",
    "    h=abs(t[1]-t[0])\n",
    "    x=np.empty(n)\n",
    "    x[0]=x0\n",
    "    \n",
    "    for i in range(n-1):\n",
    "        k1=f(t[i],x[i])\n",
    "        k2=f(t[i]+1/2*h,x[i]+h*1/2*k1)\n",
    "        k3=f(t[i]+1/2*h,x[i]+h*1/2*k2)\n",
    "        k4=f(t[i+1]    ,x[i]+h*k3)\n",
    "        \n",
    "        x[i+1]=x[i]+1/6*h*(k1+2*k2+2*k3+k4)\n",
    "    return t,x"
   ]
  },
  {
   "cell_type": "markdown",
   "metadata": {},
   "source": [
    "Es claro que esta debe ser la función de un módulo, junto con ```EulerM```.\n",
    "\n",
    "Resolvamos la siguiente ecuación:\n",
    "\n",
    "$$\\frac{dx}{dt}=\\sin(t²),\\text{    }x(0)=0$$\n",
    "\n",
    "Recordemos que \n",
    "\n",
    "$$\\int \\sin(t²)dt$$\n",
    "\n",
    "**No es posible resolverla** por métodos de Mate II y de hecho, es imposible escribirla como una función de las elementales que conocemos (Fuente).\n",
    "\n",
    "Esta integral se conoce como la **integral de Fresnel**, que son de gran uso en el campo de la óptica. \n",
    "\n",
    "**Por favor, documente el siguiente código adecuadamente.**"
   ]
  },
  {
   "cell_type": "code",
   "execution_count": 86,
   "metadata": {},
   "outputs": [
    {
     "name": "stdout",
     "output_type": "stream",
     "text": [
      "54.122667399443024\n"
     ]
    },
    {
     "data": {
      "image/png": "[encoded data removed]",
      "text/plain": [
       "<Figure size 864x432 with 1 Axes>"
      ]
     },
     "metadata": {
      "needs_background": "light"
     },
     "output_type": "display_data"
    }
   ],
   "source": [
    "import numpy as np\n",
    "import matplotlib.pyplot as plt\n",
    "f = lambda t,x: 1.581*x-0.8*x*np.log(x)*np.cos(x)*np.sin(x)\n",
    "x0=1\n",
    "t0=0.1\n",
    "tf=4.3\n",
    "n=10000\n",
    "t,x=RK4(f,x0,t0,tf,n)\n",
    "plt.figure(figsize=(12,6))\n",
    "plt.plot(t,x,'--',label=\"Solución Numérica, n = \"+str(n))\n",
    "plt.plot(t[0],x[0],'ro', label=\"Condición Inicial\")\n",
    "plt.xlabel(\"Tiempo (t)\",fontsize=15)\n",
    "plt.ylabel(\"Solución Numérica de x(t)\",fontsize=15)\n",
    "plt.title(\"Método de Runge-Kutta (RK4)\",fontsize=15)\n",
    "print(x[-1])\n",
    "plt.legend(fontsize=12)\n",
    "plt.grid()\n",
    "plt.show()"
   ]
  },
  {
   "cell_type": "markdown",
   "metadata": {},
   "source": [
    "Si aumentamos el parámetro $n$, o sea si dividimos en intervalo en más partes, deberiamos esperar una mejor aproximación, pues esto implicaría aproximarnos más y más a la derivada teórica. Miremos:"
   ]
  },
  {
   "cell_type": "markdown",
   "metadata": {},
   "source": [
    "### Tarea"
   ]
  },
  {
   "cell_type": "markdown",
   "metadata": {},
   "source": [
    "Resuelva las siguientes ecuaciones usando el método de Runge-Kutta, compare los resultados con los obtenidos del método de Euler y muestre para cuál $n$ la solución se vuelve estable:\n",
    "\n",
    "1.\n",
    "$$\\frac{dP}{dt}=kP,\\text{   }P(0)=2,\\text{   en  }T=[0,100]$$\n",
    "2.\n",
    "$$\\frac{dP}{dt}=kP\\biggl(1-\\frac{P}{S}\\biggr),\\text{   }P(0)=2,\\text{   en  }T=[0,100],\\text{   }S=100000$$\n",
    "3.\n",
    "$$\\frac{dv}{dt}=g-\\frac{c_d}{m}v^{2},\\text{   }v(0)=-3,\\text{   en  }T=[0,30]$$\n",
    "4.\n",
    "$$\\frac{dx}{dt}=e^{-t^2}\\sinh(x), \\text{  }x(-5)=0$$\n",
    "5.\n",
    "$$\\frac{dx}{dt}=\\tanh(xt)+\\ln(t^2)e^{-x^2}, \\text{  }x(-1)=2$$"
   ]
  }
 ],
 "metadata": {
  "kernelspec": {
   "display_name": "Python 3",
   "language": "python",
   "name": "python3"
  },
  "language_info": {
   "codemirror_mode": {
    "name": "ipython",
    "version": 3
   },
   "file_extension": ".py",
   "mimetype": "text/x-python",
   "name": "python",
   "nbconvert_exporter": "python",
   "pygments_lexer": "ipython3",
   "version": "3.7.7"
  }
 },
 "nbformat": 4,
 "nbformat_minor": 4
}
