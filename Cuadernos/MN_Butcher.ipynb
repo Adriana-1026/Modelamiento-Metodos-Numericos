{
 "cells": [
  {
   "cell_type": "markdown",
   "metadata": {},
   "source": [
    "# La Tabla del Carnicero (Butcher's Table)"
   ]
  },
  {
   "cell_type": "markdown",
   "metadata": {},
   "source": [
    "## Introducción"
   ]
  },
  {
   "cell_type": "markdown",
   "metadata": {},
   "source": [
    "Ya hemos introducido dos métodos numéricos para resolver ecuaciones diferenciales, a saber el método de **Euler** y el de **Runge-Kutta*.\n",
    "\n",
    "Se preguntará el espectador, ¿Existen más?\n",
    "\n",
    "**¡Por suspuesto que sí!**\n",
    "\n",
    "Hoy veremos una forma de construir muchos más mediante un proceso mnemotécino llamado la **Tabla de Butcher**."
   ]
  },
  {
   "cell_type": "markdown",
   "metadata": {},
   "source": [
    "**No olvidemos nuestro foco de atención**,\n",
    "\n",
    "$$\\frac{dx}{dt}=f(t,x),\\text{     }x(t_{0})=x_{0}$$\n",
    "\n",
    "esto es, la tasa de cambio instantáneo de la cantidad dependiente $x$, se puede modelar mediante la función $f(t,x)$. Además el experimento comienza en el momento $t_0$ con una cantidad inicial $x_0$ de la cantidad $x$."
   ]
  },
  {
   "cell_type": "markdown",
   "metadata": {},
   "source": [
    "## Definición"
   ]
  },
  {
   "cell_type": "markdown",
   "metadata": {},
   "source": [
    "La tabla del carnicero es una regla mnemotécnica que ayuda a construir métodos numéricos ya conocidos mediante una tabla que resume su información. \n",
    "\n",
    "El objetivo de esta lección será acostumbrarnos a la notación de tabla para construir y programar el respectivo método, así como el proceso inverso, esto es, ir del método numérico a la tabla.\n",
    "\n",
    "Esto es muy importante, pues el entender la tabla genera un proceso de abstracción importante en nuestro cerebro que nos hará entender la estrucutra interna de los llamados **métodos numéricos explícitos** para resolver ecuaciones diferenciales.\n",
    "\n",
    "El proceso se puede resumir con las siguiente gráficas (Tomadas de [Wikipedia](https://wikimedia.org/api/rest_v1/media/math/render/svg/44d56b38e104bfdf185d1307337e5c6e074b16c9)):\n",
    "\n",
    "**Ir de**\n",
    "\n",
    "![Tabla](/files/Pictures/Butcher.png)\n",
    "\n",
    "\n",
    "**Para construir el método**\n",
    "\n",
    "![MetNum](https://wikimedia.org/api/rest_v1/media/math/render/svg/44d56b38e104bfdf185d1307337e5c6e074b16c9)\n",
    "\n",
    "![Predictor](https://wikimedia.org/api/rest_v1/media/math/render/svg/84fa47cf3289c5ab2067fe46f748f33d4b6be48c)\n",
    "\n",
    "**y vicerversa. Recuerde que en nuestro problema, $x$ hace el papel de la $y$ mostrada arriba.**"
   ]
  },
  {
   "cell_type": "markdown",
   "metadata": {},
   "source": [
    "Aunque esto puede ser un poco confuso al principio, iremos paso a paso a paso para ver cómo se hace dicha transformación.\n",
    "\n",
    "- **c's:** Representan dos cosas:\n",
    "\n",
    "    1. Cuántos **k's** necesitamos definir para construir todo el método numérico.\n",
    "    2. Cuánto se le va a sumar a $t_i$ en multiplcación con $h$ en $f(t_i,\\dots)$ **antes de la coma**.\n",
    "    \n",
    "   \n",
    "- **a's:** Representan cuánto de cada k se le debe agregar a la función en multiplicación con $h$ $f(\\dots,x_i)$ **después de la coma**.\n",
    "\n",
    "- **b's:** Ayudan a construir la función **predictora** del método (futuro = presente + paso\\*( comb. lineal de **b's** y **k's**). "
   ]
  },
  {
   "cell_type": "markdown",
   "metadata": {},
   "source": [
    "## Ejemplos básicos"
   ]
  },
  {
   "cell_type": "markdown",
   "metadata": {},
   "source": [
    "### Método de Euler"
   ]
  },
  {
   "cell_type": "markdown",
   "metadata": {},
   "source": [
    "![Tabla](/files/Pictures/BEuler.png)\n",
    "\n",
    "Como podemos ver, en este método, necesitamos una k y sumar $hk_1$ en el predictor.\n",
    "\n",
    "El método se escribe entonces, como:\n",
    "\n",
    "$$k_1=f(t_i,x_i)$$\n",
    "$$x_{i+1}=x_i + hk_1$$\n",
    "\n",
    "que si recordamos, es lo mismo que tener:\n",
    "\n",
    "$$x_{i+1}=x_i + hf(t_i,x_i)$$"
   ]
  },
  {
   "cell_type": "markdown",
   "metadata": {},
   "source": [
    "### Método del Punto Medio"
   ]
  },
  {
   "cell_type": "markdown",
   "metadata": {},
   "source": [
    "![Tabla](/files/Pictures/BMidPt.png)\n",
    "\n",
    "En este método, necesitamos dos k's y sumar $h\\bigl(\\frac{1}{2}k_1+\\frac{1}{2}k_2\\bigr)$ en el predictor.\n",
    "\n",
    "El método se escribe entonces, como:\n",
    "\n",
    "$$\n",
    "\\begin{split}\n",
    "k_1 &=f(t_i,x_i) \\\\\n",
    "k_2 &=f\\biggl(t_i+\\frac{h}{2},x_i+h\\frac{k_1}{2}\\biggr) \\\\\n",
    "x_{i+1} &=x_i + h\\frac{k_2}{2} \\\\\n",
    "\\end{split}$$"
   ]
  },
  {
   "cell_type": "markdown",
   "metadata": {},
   "source": [
    "### Método de Ralston"
   ]
  },
  {
   "cell_type": "markdown",
   "metadata": {},
   "source": [
    "![Tabla](/files/Pictures/BRalston.png)\n",
    "\n",
    "En este método, necesitamos dos k's y sumar $h\\bigl(\\frac{1}{4}k_1+\\frac{3}{4}k_2\\bigr)$ en el predictor.\n",
    "\n",
    "El método se escribe entonces, como:\n",
    "\n",
    "$$\n",
    "\\begin{split}\n",
    "k_1 &=f(t_i,x_i) \\\\\n",
    "k_2 &=f\\biggl(t_i+\\frac{2h}{3},x_i+h\\frac{2k_1}{3}\\biggr) \\\\\n",
    "x_{i+1} &=x_i + h\\biggl(\\frac{1}{4}k_1+\\frac{3}{4}k_2\\biggr) \\\\\n",
    "\\end{split}$$"
   ]
  },
  {
   "cell_type": "markdown",
   "metadata": {},
   "source": [
    "Ahora veremos un caso curioso, llamado **Runge-Kutta 3/8**:"
   ]
  },
  {
   "cell_type": "markdown",
   "metadata": {},
   "source": [
    "### Implementación"
   ]
  },
  {
   "cell_type": "markdown",
   "metadata": {},
   "source": [
    "Haremos la implementación de Runge-Kutta, Regla 3/8.\n",
    "\n",
    "Los demás métodos mostrados y existentes son deber el estudiante.\n",
    "\n",
    "**Por favor, documentar adecuadamente el siguiente código:**"
   ]
  },
  {
   "cell_type": "code",
   "execution_count": 8,
   "metadata": {},
   "outputs": [],
   "source": [
    "def RK38(f,x0,t0,tf,n):\n",
    "    t=np.linspace(t0,tf,n)\n",
    "    h=abs(t[1]-t[0])\n",
    "    x=np.empty(n)\n",
    "    x[0]=x0\n",
    "    \n",
    "    for i in range(n-1):\n",
    "        k1=f(t[i],x[i])\n",
    "        k2=f(t[i]+h/3  ,x[i]+h*k1/3)\n",
    "        k3=f(t[i]+2*h/3,x[i]+h*(-k1/3+k2))\n",
    "        k4=f(t[i]+h    ,x[i]+h*(k1-k2+k3))\n",
    "        \n",
    "        x[i+1]=x[i]+h*(k1/8+3*k2/8+3*k3/8+k4/8)\n",
    "    return t,x"
   ]
  },
  {
   "cell_type": "markdown",
   "metadata": {},
   "source": [
    "Es claro que esta debe ser la función de un módulo, junto con ```EulerM```, ```RK4``` y todos los demás métodos.\n",
    "\n",
    "**Observación:** El método RK38 contiene meno error que el método clásico RK4 (aunque requiere un poquito más de cálculos, pero la diferencia en tiempo de cómputo es insignificante).\n",
    "\n",
    "Resolvamos la siguiente ecuación con la regla 3/8:\n",
    "\n",
    "$$\\frac{dx}{dt}=\\tan(x)+1,\\text{    }x(1)=1$$"
   ]
  },
  {
   "cell_type": "code",
   "execution_count": 14,
   "metadata": {},
   "outputs": [
    {
     "data": {
      "image/png": "[encoded data removed]",
      "text/plain": [
       "<Figure size 864x432 with 1 Axes>"
      ]
     },
     "metadata": {
      "needs_background": "light"
     },
     "output_type": "display_data"
    }
   ],
   "source": [
    "import numpy as np\n",
    "import matplotlib.pyplot as plt\n",
    "f = lambda t,x: np.tan(x)+1\n",
    "x0=1\n",
    "t0=1\n",
    "tf=1.1\n",
    "n=100\n",
    "t,x=RK38(f,x0,t0,tf,n)\n",
    "plt.figure(figsize=(12,6))\n",
    "plt.plot(t,x,'--',label=\"Solución Numérica con RK38, n = \"+str(n))\n",
    "plt.plot(t[0],x[0],'ro', label=\"Condición Inicial\")\n",
    "plt.xlabel(\"Tiempo (t)\",fontsize=15)\n",
    "plt.ylabel(\"Solución Numérica de x(t)\",fontsize=15)\n",
    "plt.title(\"Método de Runge-Kutta (RK4)\",fontsize=15)\n",
    "plt.legend(fontsize=12)\n",
    "plt.grid()\n",
    "plt.show()"
   ]
  },
  {
   "cell_type": "markdown",
   "metadata": {},
   "source": [
    "Ahora tenemos **muchos métodos numéricos a nuestra disposición** para resolver muchas ecuaciones diferenciales.\n",
    "\n",
    "¡Buenas noticias!"
   ]
  },
  {
   "cell_type": "markdown",
   "metadata": {},
   "source": [
    "### Tarea"
   ]
  },
  {
   "cell_type": "markdown",
   "metadata": {},
   "source": [
    "Construya y programe los siguientes métodos numéricos usando la Tabla del Carnicero correspondiente:\n",
    "\n",
    "- Heun.\n",
    "- Punto Medio.\n",
    "- Ralston.\n",
    "- Dormand-Prince (Opcional).\n",
    "\n",
    "Una todas esas definiciones y los métodos ya construídos (Euler, RK4, RK38) en un módulo llamado ```Solver_EDO```.\n",
    "\n",
    "Resuelva las siguientes ecuaciones, usando cada método numérico  en el módulo creado y comparando los errores correspondientes.\n",
    "\n",
    "1.\n",
    "$$\\frac{dP}{dt}=kP,\\text{   }P(0)=2,\\text{   en  }T=[0,100]$$\n",
    "2.\n",
    "$$\\frac{dP}{dt}=kP\\biggl(1-\\frac{P}{S}\\biggr),\\text{   }P(0)=2,\\text{   en  }T=[0,100],\\text{   }S=100000$$\n",
    "3.\n",
    "$$\\frac{dv}{dt}=g-\\frac{c_d}{m}v^{2},\\text{   }v(0)=-3,\\text{   en  }T=[0,30]$$\n",
    "4.\n",
    "$$\\frac{dx}{dt}=e^{-t^2}\\sinh(x), \\text{  }x(-5)=0$$\n",
    "5.\n",
    "$$\\frac{dx}{dt}=\\tanh(xt)+\\ln(t^2)e^{-x^2}, \\text{  }x(-1)=2$$\n",
    "\n",
    "Decida cuál es el método numérico más apropiado para cada ecuación."
   ]
  }
 ],
 "metadata": {
  "kernelspec": {
   "display_name": "Python 3",
   "language": "python",
   "name": "python3"
  },
  "language_info": {
   "codemirror_mode": {
    "name": "ipython",
    "version": 3
   },
   "file_extension": ".py",
   "mimetype": "text/x-python",
   "name": "python",
   "nbconvert_exporter": "python",
   "pygments_lexer": "ipython3",
   "version": "3.7.7"
  }
 },
 "nbformat": 4,
 "nbformat_minor": 4
}
