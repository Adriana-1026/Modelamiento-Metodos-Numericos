{
 "cells": [
  {
   "cell_type": "markdown",
   "metadata": {},
   "source": [
    "# Introducción a Tensores"
   ]
  },
  {
   "cell_type": "markdown",
   "metadata": {},
   "source": [
    "## Motivación:\n",
    "\n",
    "Para dar un sentido más profundo del Notebook [anterior](Cuadernos/Intro_Python), analizaremos las listas de Python con mayor profundidad."
   ]
  },
  {
   "cell_type": "markdown",
   "metadata": {},
   "source": [
    "### Listas (Vectores)\n",
    "\n",
    "Recordemos que una lista no es más que un **vector** clásico del Álgebra Lineal (claro está, podemos poner datos **no numéricos**).\n",
    "\n",
    "**Ejemplo:**"
   ]
  },
  {
   "cell_type": "code",
   "execution_count": null,
   "metadata": {},
   "outputs": [],
   "source": [
    "l1=[\"Hola\",1,\"soy Python\",3.76,3j,{\"a\":[1,2,3],\"b\":[\"g1\",\"g2\",\"g3\"]}]\n",
    "print(\"\\n\",\"lista 1 =\",l1,\"\\n\")"
   ]
  },
  {
   "cell_type": "markdown",
   "metadata": {},
   "source": [
    "Y para acceder a cada uno de los elementos de la lista, lo hacemos usando la indización por corchetes cuadrados:"
   ]
  },
  {
   "cell_type": "code",
   "execution_count": null,
   "metadata": {},
   "outputs": [],
   "source": [
    "print(\"l1[0] =\",l1[0])\n",
    "print(\"l1[3] =\",l1[3])\n",
    "print(\"l1[5] =\",l1[5])"
   ]
  },
  {
   "cell_type": "markdown",
   "metadata": {},
   "source": [
    "Como vemos que algunos elementos pueden tener **estructuras más complicadas**, podemos acceder dentro de estos elementos usando la doble notación de corchete cuadrado (**Note cómo se accede a elementos internos de un diccionario**):"
   ]
  },
  {
   "cell_type": "code",
   "execution_count": null,
   "metadata": {},
   "outputs": [],
   "source": [
    "print(\"l1[0][0] =\",l1[0][2])\n",
    "print(\"l1[5]['a'] =\",l1[5]['a'])"
   ]
  },
  {
   "cell_type": "markdown",
   "metadata": {},
   "source": [
    "**Observemos** que podemos acceder a un nivel más de nuestra lista, ésta vez usando la triple notación de corchetes cuadrados:"
   ]
  },
  {
   "cell_type": "code",
   "execution_count": null,
   "metadata": {},
   "outputs": [],
   "source": [
    "print(\"l1[5]['a'][0:2] =\",l1[5]['a'][0:2])"
   ]
  },
  {
   "cell_type": "markdown",
   "metadata": {},
   "source": [
    "### Listas de Listas (Matrices)\n",
    "\n",
    "Una lista de listas es en análogo de una **matriz** (no estándar). La forma de acceder a los elementos de dicha lista es también por medio de la notación de corchetes cuadrados, tal y cómo lo hacíamos en Álgebra Lineal cuando accedíamos a los elementos de la matriz.\n",
    "\n",
    "**Ejemplo:**\n",
    "\n",
    "Fíjese cómo es posible escribir la lista de listas para tener una analoǵia más clara con una matrz:"
   ]
  },
  {
   "cell_type": "code",
   "execution_count": null,
   "metadata": {},
   "outputs": [],
   "source": [
    "l2=[[1,        2,       3],\n",
    "    [\"R\",\"Julia\",\"Octave\"],\n",
    "    [3.,     5.6,8**(1/2)]]\n",
    "\n",
    "print(\"\\n\"\"lista 2 =\",l2,\"\\n\")"
   ]
  },
  {
   "cell_type": "markdown",
   "metadata": {},
   "source": [
    "Igual que antes, podemos acceder a los elementos usando ```objeto[índice]```"
   ]
  },
  {
   "cell_type": "code",
   "execution_count": null,
   "metadata": {},
   "outputs": [],
   "source": [
    "print(\"l2[0] =\",l2[0])\n",
    "print(\"l2[0][2] =\",l2[0][2],\"\\n\")\n",
    "print(\"l2[1] =\",l2[1])\n",
    "print(\"l2[1][1] =\",l2[1][1])\n",
    "print(\"l2[1][1][4] =\",l2[1][1][4],\"\\n\")\n",
    "print(\"l2[2] =\",l2[2])\n",
    "print(\"l2[2][2] =\",l2[2][2])"
   ]
  },
  {
   "cell_type": "markdown",
   "metadata": {},
   "source": [
    "## ¿Qué es un tensor?\n",
    "\n",
    "Ok, ok, entendido cómo acceder a los elementos de un vector, matriz, etc...\n",
    "\n",
    "Pero, **¿qué es un tensor?**\n",
    "\n",
    "Un **tensor** es una matriz en muchas dimensiones. En otras palabras, un **arreglo multidimensional**.\n",
    "\n",
    "Para entender este concepto geométricamente, sigamos la siguiente lógica:\n",
    "\n",
    "- Tensor **0-dimensional**: Número $\\bigl(\\textbf{Ej: } 3\\bigr)$\n",
    "- Tensor **1-dimensional**: Vector $\\bigl(\\textbf{Ej: } [1,2,3]\\bigr)$\n",
    "- Tensor **2-dimensional**: Matriz $\\biggl(\\textbf{Ej: } \\begin{bmatrix}1 & 2 & 3\\\\5 & 6 & 7\\end{bmatrix}\\biggr)$\n",
    "\n",
    "**...**\n",
    "\n",
    "**¿Qué será un tensor 3-dimensional?**\n",
    "\n",
    "**Bingo! Una matriz en 3D (O sea, con láminas y cada lámina es una matriz).**\n",
    "\n",
    "Veamos esto gráficamente:\n",
    "\n",
    "![tensor_graf](https://github.com/UCMetNum/Met-Num/blob/master/Pics/tensor.png?raw=true)\n",
    "\n",
    "Esto signfica que un tensor en tres dimensiones se puede acceder mediante sus capas:\n",
    "\n",
    "El tensor de la imagen tiene **3 capas** (o láminas), dónde **cada lámina** es una **matriz**.\n",
    "\n",
    "El tensor se debe leer en Python como:\n",
    "\n",
    "$$T_{3\\textbf{x}6\\textbf{x}6}$$\n",
    "\n",
    "Donde 3 significa tres capas y $6\\textbf{x}6$ significa que cada lámina es una matriz de tamaño $6\\textbf{x}6$"
   ]
  },
  {
   "cell_type": "markdown",
   "metadata": {},
   "source": [
    "## **Ejemplo de la vida real:**\n",
    "\n",
    "![RGB](https://image.slidesharecdn.com/tensordecomposition-170301235239/95/a-brief-survey-of-tensors-5-638.jpg)"
   ]
  },
  {
   "cell_type": "markdown",
   "metadata": {},
   "source": [
    "## Ejemplo Numérico"
   ]
  },
  {
   "cell_type": "code",
   "execution_count": null,
   "metadata": {},
   "outputs": [],
   "source": [
    "# Importar numpy para crear mátriz de números\n",
    "import numpy as np\n",
    "\n",
    "T=np.array([\n",
    "    [[1,2,3],\n",
    "     [4,5,6],\n",
    "     [7,8,9]],\n",
    "    \n",
    "    [[1,4,6],\n",
    "     [2,4,2],\n",
    "     [3,5,5]],\n",
    "    \n",
    "    [[12,4,5],\n",
    "     [4,5,5],\n",
    "     [2,3,4]],\n",
    "    \n",
    "    [[12,4,5],\n",
    "     [4,5,5],\n",
    "     [2,3,4]]\n",
    "            ])\n",
    "print(\"la forma del tensor T es: \",T.shape,\"\\n\")\n",
    "print(\"T =\\n\" ,T)"
   ]
  },
  {
   "cell_type": "markdown",
   "metadata": {},
   "source": [
    "Para acceder a los elementos, usamos el **mismo método** de la notación de corchetes:"
   ]
  },
  {
   "cell_type": "code",
   "execution_count": null,
   "metadata": {},
   "outputs": [],
   "source": [
    "print(\"Primera capa:\\n\\n\",T[0],\"\\n\")\n",
    "print(\"Segunda capa:\\n\\n\",T[1],\"\\n\")\n",
    "print(\"Tercera capa:\\n\\n\",T[2],\"\\n\")\n",
    "print(\"Cuarta capa:\\n\\n\",T[3],\"\\n\")"
   ]
  },
  {
   "cell_type": "code",
   "execution_count": null,
   "metadata": {},
   "outputs": [],
   "source": [
    "print(\"Primera capa T[0]:\\n\\n\",T[0],\"\\n\")\n",
    "print(\"Primera fila de la primera capa T[0][0]:\\n\\n\",T[0][0],\"\\n\")\n",
    "print(\"Primer elemento de la primera fila de la primera capa T[0][0][0]:\\n\\n\",T[0][0][0],\"\\n\")"
   ]
  },
  {
   "cell_type": "markdown",
   "metadata": {},
   "source": [
    "## Ejemplo con imágenes (Simulación)"
   ]
  },
  {
   "cell_type": "markdown",
   "metadata": {},
   "source": [
    "Ahora pongamos un ejemplo en práctica. Generemos una imagen desde numpy y veamos lo qué tiene por dentro en su contenido de **escala de grises**."
   ]
  },
  {
   "cell_type": "code",
   "execution_count": 1,
   "metadata": {},
   "outputs": [
    {
     "name": "stdout",
     "output_type": "stream",
     "text": [
      "[[[138 243  16 131 157  97 144  13 124 223]\n",
      "  [108 228 193 123 237 195 224  78 200 169]\n",
      "  [ 13 108  37 179  69 148  28 157 134  15]\n",
      "  [ 14 120  11 170 106  83 192  67 168  14]\n",
      "  [248 141 235   1  79   1  34 155  59 210]\n",
      "  [189  70  58 118  25 141  82  88 247 226]\n",
      "  [ 63 106  42  72 166  10 175 138 247  44]\n",
      "  [165 192 137 216 151 101 220   9   2 249]\n",
      "  [ 17 211 116  54  69 108  59 180  68  34]\n",
      "  [162  73 200  76 122 166  59 214  85 200]]\n",
      "\n",
      " [[248   9  97 123  17  42 243 135  99  13]\n",
      "  [ 69 207 210  23 207 228 132 254 213 199]\n",
      "  [106 231  74  51  73 218 166  36 104 204]\n",
      "  [ 90  53  31  62  48 126   0 100  40 194]\n",
      "  [250 136 186 251 143 101 183 152 159 208]\n",
      "  [246 126 193  83  86 192 245  77  73 184]\n",
      "  [240 244   7  57  67 166 136  87 203  67]\n",
      "  [207   5   9 200 113 102 151 194 141  39]\n",
      "  [ 80 101  28  28  83  83 132  16 187 166]\n",
      "  [120  59 163 245  46 247 144  47 218 242]]\n",
      "\n",
      " [[124  18 137  59  41 143 133  74 146  90]\n",
      "  [223 136 214 114 171  20  30 168 203 234]\n",
      "  [ 75 136 204 144 151  91 166 109  81 114]\n",
      "  [  2 216 128 154 100  32 247 140  45  43]\n",
      "  [ 43 129   5 165 113 220 190 242  30 137]\n",
      "  [193  81 143  91  17  25  15 112 251  19]\n",
      "  [ 56 195 252  19 252 180 224   9  59 139]\n",
      "  [ 54  92 155  23 140 206 123 198  84  92]\n",
      "  [123 156  28  75 149 176 176  60 187 254]\n",
      "  [ 76 110  96 227 152  91  72  87  71 126]]]\n"
     ]
    }
   ],
   "source": [
    "import numpy as np\n",
    "I=np.random.randint(0,255,size=(3,10,10))\n",
    "print(I)"
   ]
  },
  {
   "cell_type": "code",
   "execution_count": 2,
   "metadata": {},
   "outputs": [
    {
     "data": {
      "image/png": "[encoded data removed]",
      "text/plain": [
       "<Figure size 432x288 with 1 Axes>"
      ]
     },
     "metadata": {
      "needs_background": "light"
     },
     "output_type": "display_data"
    }
   ],
   "source": [
    "import matplotlib.pyplot as plt\n",
    "\n",
    "plt.imshow(I.T)\n",
    "plt.show()"
   ]
  },
  {
   "cell_type": "markdown",
   "metadata": {},
   "source": [
    "## Ejemplo con imágenes (Reales)"
   ]
  },
  {
   "cell_type": "markdown",
   "metadata": {},
   "source": [
    "### Black&White (B/W) Images\n",
    "\n",
    "Cuando hablamos de una imagen en escala de grises, podemos hablar no de un tensor, si no más bien de una matriz, donde 0 es ausencia de color (negro) y 255 es total color(blanco).\n",
    "\n",
    "Veámos el siguiente ejemplo:"
   ]
  },
  {
   "cell_type": "code",
   "execution_count": 3,
   "metadata": {},
   "outputs": [
    {
     "data": {
      "image/png": "[encoded data removed]",
      "text/plain": [
       "<Figure size 432x288 with 1 Axes>"
      ]
     },
     "metadata": {
      "needs_background": "light"
     },
     "output_type": "display_data"
    }
   ],
   "source": [
    "from PIL import Image\n",
    "\n",
    "I=Image.open(\"/home/daniel/Pictures/boot.png\").convert(\"L\")\n",
    "plt.imshow(I,cmap=\"gray\")\n",
    "plt.show()"
   ]
  },
  {
   "cell_type": "code",
   "execution_count": 4,
   "metadata": {},
   "outputs": [
    {
     "name": "stdout",
     "output_type": "stream",
     "text": [
      "\n",
      "La imagen tiene forma:  (18, 18) \n",
      "\n",
      "[[255 255 255 255 255 255 255 255 255 255 255 255 255 255 255 255 255 255]\n",
      " [255 255 255 255 255 255 255 255 255 250 178 254 255 255 255 255 255 255]\n",
      " [255 255 255 255 255 255 255 254 253 190 128 203 251 253 253 252 252 251]\n",
      " [255 255 255 255 255 255 255 255 254  79  51 156  99 146 185 172 119 239]\n",
      " [255 255 255 255 255 255 254 255 200  37  39  44  88 132 132 110 162 191]\n",
      " [255 255 255 255 255 255 255 255  69  34  28  19  32  31  32  34   7 255]\n",
      " [255 255 255 255 255 255 253 255  60  33  36  75  44  43  40  35   1 253]\n",
      " [255 255 255 255 255 255 250 190   9  33  36  57  32  41  29  16 136 196]\n",
      " [255 255 251 252 255 254 254 219  14  26  26  17  43  32  25  36  42 253]\n",
      " [252 255 255 254 251 186 108  34  52  43  35  48  41  33  34  36  20 253]\n",
      " [232 210 188 152 121  34  43  44  58  47  51  20  19  48  15  26  18 255]\n",
      " [ 60  26  34  45  39  52  50  24 181  80  24  69  94  38  53  36  26 255]\n",
      " [ 15  46  30  25  20  37  63  38  20 190 151  83  36  40  40  33  34 234]\n",
      " [ 50  63  45  65  67  65  52  37  35  30  29  64  48  72  81  78  53 141]\n",
      " [124  47  71  82  57  45  41  46  47  58  60  59  62  64  76  92  82 156]\n",
      " [255 255 186  45  22  14   6  14  34  39  63  75  76  80  89 161 199 255]\n",
      " [255 255 255 255 231 226 209 232 253 255 255 255 255 255 255 255 255 255]\n",
      " [255 255 255 255 255 255 255 255 255 255 255 255 255 255 255 255 255 255]]\n"
     ]
    }
   ],
   "source": [
    "Idata=np.array(I)\n",
    "print(\"\\nLa imagen tiene forma: \",Idata.shape,\"\\n\")\n",
    "print(Idata)"
   ]
  },
  {
   "cell_type": "markdown",
   "metadata": {},
   "source": [
    "### Imágenes a Color\n",
    "\n",
    "Por supuesto, no ocurre lo mismo para imágenes a color, pues estas tienen 3 capas de color **RGB** (Red, Green Blue).\n",
    "\n",
    "**Ejemplo:**"
   ]
  },
  {
   "cell_type": "code",
   "execution_count": 5,
   "metadata": {},
   "outputs": [
    {
     "data": {
      "image/png": "[encoded data removed]",
      "text/plain": [
       "<Figure size 432x288 with 1 Axes>"
      ]
     },
     "metadata": {
      "needs_background": "light"
     },
     "output_type": "display_data"
    }
   ],
   "source": [
    "from PIL import Image\n",
    "\n",
    "I=Image.open(\"/home/daniel/Pictures/yep2.png\").convert(\"RGB\")\n",
    "plt.imshow(I)\n",
    "plt.show()"
   ]
  },
  {
   "cell_type": "code",
   "execution_count": 6,
   "metadata": {},
   "outputs": [
    {
     "name": "stdout",
     "output_type": "stream",
     "text": [
      "\n",
      "La imagen tiene forma:  (18, 18, 3) \n",
      "\n",
      "[[[255 255 255 255 255 255 255 255 255 255 255 255 255 255 255 255 255]\n",
      "  [255 255 255 255 255 255 255 255 255 255 255 255 255 255 255 255 255]\n",
      "  [255 255 255 255 255 255 255 255 255 255 255 255 255 255 255 255 255]\n",
      "  [255 255 255 255 255 255 255 255 255 255 255 255 255 255 255 255 255]\n",
      "  [255 255 255 255 255 255 255 255 255 255 249 153 130 255 255 255 255]\n",
      "  [255 255 255 255 255 255 255 255 255 251  87  55 168 255 255 255 255]\n",
      "  [255 255 255 255 139 194 255 255 255 158  51 236 255 255 255 255 255]\n",
      "  [255 255 255 255  87 158 255 255 255  71 153 255 255 255 255 255 255]\n",
      "  [255 255 255 255 231 246 255 255 250  30 209 255 255 255 255 255 255]\n",
      "  [255 255 255 255 255 255 255 255 240  25 227 255 255 255 255 255 255]\n",
      "  [255 255 255 255 255 255 255 255 246  27 218 255 255 255 255 255 255]\n",
      "  [255 255 255 255 255 255 255 255 255  53 177 255 255 255 255 255 255]\n",
      "  [255 255 255 255 255 255 255 255 255 124  83 254 255 255 255 255 255]\n",
      "  [255 255 255 255 156 204 255 255 255 232  45 111 229 255 255 255 255]\n",
      "  [255 255 255 255  85 156 255 255 255 255 217  79  73 255 255 255 255]\n",
      "  [255 255 255 255 215 238 255 255 255 255 255 255 253 255 255 255 255]\n",
      "  [255 255 255 255 255 255 255 255 255 255 255 255 255 255 255 255 255]]\n",
      "\n",
      " [[255 255 255 255 254 235 211 196 189 189 196 211 235 254 255 255 255]\n",
      "  [255 255 255 244 203 192 195 194 191 188 188 188 188 202 244 255 255]\n",
      "  [255 255 241 207 211 212 212 212 212 209 200 189 188 188 191 237 255]\n",
      "  [255 248 214 212 218 214 212 212 212 212 212 210 195 188 188 191 244]\n",
      "  [255 221 212 212 244 230 212 212 212 212 208 129 111 196 188 188 202]\n",
      "  [242 212 212 212 244 231 212 212 212 209  76  49 142 211 192 188 188]\n",
      "  [227 212 212 212 128 170 212 212 212 133  47 197 212 212 207 188 188]\n",
      "  [217 212 212 212  76 134 212 212 212  63 130 211 211 212 212 194 188]\n",
      "  [213 212 212 212 192 205 212 212 208  30 175 195 200 212 212 201 188]\n",
      "  [213 212 212 212 212 212 212 212 200  25 190 190 205 212 212 206 188]\n",
      "  [217 212 212 212 215 213 212 212 205  27 182 196 199 212 212 208 188]\n",
      "  [227 212 212 212 243 230 212 212 212  48 149 211 211 212 212 207 188]\n",
      "  [242 212 212 212 244 231 212 212 212 106  73 211 212 212 212 204 188]\n",
      "  [255 221 212 212 145 180 212 212 212 194  42  95 191 212 212 197 203]\n",
      "  [255 248 214 212  75 132 212 212 212 212 182  69  64 212 210 193 244]\n",
      "  [255 255 244 214 180 198 212 212 212 212 212 212 210 212 202 237 255]\n",
      "  [255 255 255 248 221 212 212 212 212 212 212 212 212 219 244 255 255]]\n",
      "\n",
      " [[255 255 255 255 253 191 116  68  45  45  67 115 191 253 255 255 255]\n",
      "  [255 255 255 218  86  42  42  42  42  42  42  42  42  86 219 255 255]\n",
      "  [255 255 197  52  42  42  42  42  42  42  42  42  42  42  52 198 255]\n",
      "  [255 219  52  42  72  54  42  42  42  42  42  42  42  42  42  52 219]\n",
      "  [254  87  42  42 197 133  42  42  42  42  42  35  33  42  42  42  86]\n",
      "  [192  42  42  42 199 134  42  42  42  42  30  28  36  42  42  42  42]\n",
      "  [117  42  42  42  85  74  42  42  42  35  28  41  42  42  42  42  42]\n",
      "  [ 68  42  42  42  31  37  42  42  42  29  35  42  42  42  42  42  42]\n",
      "  [ 46  42  42  42  41  42  42  42  42  26  39  42  42  42  42  42  42]\n",
      "  [ 46  42  42  42  42  42  42  42  41  26  40  42  42  42  42  42  42]\n",
      "  [ 69  42  42  42  59  48  42  42  41  26  39  42  42  42  42  42  42]\n",
      "  [117  42  42  42 194 130  42  42  42  28  37  42  42  42  42  42  42]\n",
      "  [192  42  42  42 199 134  42  42  42  33  30  42  42  42  42  42  42]\n",
      "  [254  87  42  42 101  84  42  42  42  40  27  32  40  42  42  42  87]\n",
      "  [255 219  52  42  31  37  42  42  42  42  39  30  29  42  42  52 220]\n",
      "  [255 255 198  52  40  41  42  42  42  42  42  42  42  42  52 199 255]\n",
      "  [255 255 255 220  87  42  42  42  42  42  42  42  42  88 220 255 255]]]\n"
     ]
    }
   ],
   "source": [
    "Idata=np.array(I)\n",
    "print(\"\\nLa imagen tiene forma: \",Idata.shape,\"\\n\")\n",
    "print(Idata.T[:,:17,:17])"
   ]
  },
  {
   "cell_type": "code",
   "execution_count": 7,
   "metadata": {},
   "outputs": [
    {
     "data": {
      "image/png": "[encoded data removed]",
      "text/plain": [
       "<Figure size 1080x1080 with 3 Axes>"
      ]
     },
     "metadata": {
      "needs_background": "light"
     },
     "output_type": "display_data"
    }
   ],
   "source": [
    "fig, (ax1, ax2,ax3) = plt.subplots(1, 3,figsize=(15,15))\n",
    "\n",
    "ax1.imshow(Idata[:,:,0],cmap=\"Reds\")\n",
    "ax1.set_xlabel('Red')\n",
    "ax2.imshow(Idata[:,:,1],cmap=\"Greens\")\n",
    "ax2.set_xlabel('Green')\n",
    "ax3.imshow(Idata[:,:,2],cmap=\"Blues\")\n",
    "ax3.set_xlabel('Blue')\n",
    "plt.show()"
   ]
  }
 ],
 "metadata": {
  "kernelspec": {
   "display_name": "Python 3",
   "language": "python",
   "name": "python3"
  },
  "language_info": {
   "codemirror_mode": {
    "name": "ipython",
    "version": 3
   },
   "file_extension": ".py",
   "mimetype": "text/x-python",
   "name": "python",
   "nbconvert_exporter": "python",
   "pygments_lexer": "ipython3",
   "version": "3.7.6"
  }
 },
 "nbformat": 4,
 "nbformat_minor": 4
}
