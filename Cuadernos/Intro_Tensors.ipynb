{
 "cells": [
  {
   "cell_type": "markdown",
   "metadata": {},
   "source": [
    "# Introducción a Tensores"
   ]
  },
  {
   "cell_type": "markdown",
   "metadata": {},
   "source": [
    "## Motivación:\n",
    "\n",
    "Para dar un sentido más profundo del Notebook [anterior](Cuadernos/Intro_Python), analizaremos las listas de Python con mayor profundidad."
   ]
  },
  {
   "cell_type": "markdown",
   "metadata": {},
   "source": [
    "### Listas (Vectores)\n",
    "\n",
    "Recordemos que una lista no es más que un **vector** clásico del Álgebra Lineal (claro está, podemos poner datos **no numéricos**).\n",
    "\n",
    "**Ejemplo:**"
   ]
  },
  {
   "cell_type": "code",
   "execution_count": 1,
   "metadata": {},
   "outputs": [
    {
     "name": "stdout",
     "output_type": "stream",
     "text": [
      "\n",
      " lista 1 = ['Hola', 1, 'soy Python', 3.76, 3j, {'a': [1, 2, 3], 'b': ['g1', 'g2', 'g3']}] \n",
      "\n"
     ]
    }
   ],
   "source": [
    "l1=[\"Hola\",1,\"soy Python\",3.76,3j,{\"a\":[1,2,3],\"b\":[\"g1\",\"g2\",\"g3\"]}]\n",
    "print(\"\\n\",\"lista 1 =\",l1,\"\\n\")"
   ]
  },
  {
   "cell_type": "markdown",
   "metadata": {},
   "source": [
    "Y para acceder a cada uno de los elementos de la lista, lo hacemos usando la indización por corchetes cuadrados:"
   ]
  },
  {
   "cell_type": "code",
   "execution_count": 2,
   "metadata": {},
   "outputs": [
    {
     "name": "stdout",
     "output_type": "stream",
     "text": [
      "l1[0] = Hola\n",
      "l1[3] = 3.76\n",
      "l1[5] = {'a': [1, 2, 3], 'b': ['g1', 'g2', 'g3']}\n"
     ]
    }
   ],
   "source": [
    "print(\"l1[0] =\",l1[0])\n",
    "print(\"l1[3] =\",l1[3])\n",
    "print(\"l1[5] =\",l1[5])"
   ]
  },
  {
   "cell_type": "markdown",
   "metadata": {},
   "source": [
    "Como vemos que algunos elementos pueden tener **estructuras más complicadas**, podemos acceder dentro de estos elementos usando la doble notación de corchete cuadrado (**Note cómo se accede a elementos internos de un diccionario**):"
   ]
  },
  {
   "cell_type": "code",
   "execution_count": 3,
   "metadata": {},
   "outputs": [
    {
     "name": "stdout",
     "output_type": "stream",
     "text": [
      "l1[0][0] = l\n",
      "l1[5]['a'] = [1, 2, 3]\n"
     ]
    }
   ],
   "source": [
    "print(\"l1[0][0] =\",l1[0][2])\n",
    "print(\"l1[5]['a'] =\",l1[5]['a'])"
   ]
  },
  {
   "cell_type": "markdown",
   "metadata": {},
   "source": [
    "**Observemos** que podemos acceder a un nivel más de nuestra lista, ésta vez usando la triple notación de corchetes cuadrados:"
   ]
  },
  {
   "cell_type": "code",
   "execution_count": 4,
   "metadata": {},
   "outputs": [
    {
     "name": "stdout",
     "output_type": "stream",
     "text": [
      "l1[5]['a'][0:2] = [1, 2]\n"
     ]
    }
   ],
   "source": [
    "print(\"l1[5]['a'][0:2] =\",l1[5]['a'][0:2])"
   ]
  },
  {
   "cell_type": "markdown",
   "metadata": {},
   "source": [
    "### Listas de Listas (Matrices)\n",
    "\n",
    "Una lista de listas es en análogo de una **matriz** (no estándar). La forma de acceder a los elementos de dicha lista es también por medio de la notación de corchetes cuadrados, tal y cómo lo hacíamos en Álgebra Lineal cuando accedíamos a los elementos de la matriz.\n",
    "\n",
    "**Ejemplo:**\n",
    "\n",
    "Fíjese cómo es posible escribir la lista de listas para tener una analoǵia más clara con una matrz:"
   ]
  },
  {
   "cell_type": "code",
   "execution_count": 5,
   "metadata": {},
   "outputs": [
    {
     "name": "stdout",
     "output_type": "stream",
     "text": [
      "\n",
      "lista 2 = [[1, 2, 3], ['R', 'Julia', 'Octave'], [3.0, 5.6, 2.8284271247461903]] \n",
      "\n"
     ]
    }
   ],
   "source": [
    "l2=[[1,        2,       3],\n",
    "    [\"R\",\"Julia\",\"Octave\"],\n",
    "    [3.,     5.6,8**(1/2)]]\n",
    "\n",
    "print(\"\\n\"\"lista 2 =\",l2,\"\\n\")"
   ]
  },
  {
   "cell_type": "markdown",
   "metadata": {},
   "source": [
    "Igual que antes, podemos acceder a los elementos usando ```objeto[índice]```"
   ]
  },
  {
   "cell_type": "code",
   "execution_count": 6,
   "metadata": {},
   "outputs": [
    {
     "name": "stdout",
     "output_type": "stream",
     "text": [
      "l2[0] = [1, 2, 3]\n",
      "l2[0][2] = 3 \n",
      "\n",
      "l2[1] = ['R', 'Julia', 'Octave']\n",
      "l2[1][1] = Julia\n",
      "l2[1][1][4] = a \n",
      "\n",
      "l2[2] = [3.0, 5.6, 2.8284271247461903]\n",
      "l2[2][2] = 2.8284271247461903\n"
     ]
    }
   ],
   "source": [
    "print(\"l2[0] =\",l2[0])\n",
    "print(\"l2[0][2] =\",l2[0][2],\"\\n\")\n",
    "print(\"l2[1] =\",l2[1])\n",
    "print(\"l2[1][1] =\",l2[1][1])\n",
    "print(\"l2[1][1][4] =\",l2[1][1][4],\"\\n\")\n",
    "print(\"l2[2] =\",l2[2])\n",
    "print(\"l2[2][2] =\",l2[2][2])"
   ]
  },
  {
   "cell_type": "markdown",
   "metadata": {},
   "source": [
    "## ¿Qué es un tensor?\n",
    "\n",
    "Ok, ok, entendido cómo acceder a los elementos de un vector, matriz, etc...\n",
    "\n",
    "Pero, **¿qué es un tensor?**\n",
    "\n",
    "Un **tensor** es una matriz en muchas dimensiones. En otras palabras, un **arreglo multidimensional**.\n",
    "\n",
    "Para entender este concepto geométricamente, sigamos la siguiente lógica:\n",
    "\n",
    "- Tensor **0-dimensional**: Número $\\bigl(\\textbf{Ej: } 3\\bigr)$\n",
    "- Tensor **1-dimensional**: Vector $\\bigl(\\textbf{Ej: } [1,2,3]\\bigr)$\n",
    "- Tensor **2-dimensional**: Matriz $\\biggl(\\textbf{Ej: } \\begin{bmatrix}1 & 2 & 3\\\\5 & 6 & 7\\end{bmatrix}\\biggr)$\n",
    "\n",
    "**...**\n",
    "\n",
    "**¿Qué será un tensor 3-dimensional?**\n",
    "\n",
    "**Bingo! Una matriz en 3D (O sea, con láminas y cada lámina es una matriz).**\n",
    "\n",
    "Veamos esto gráficamente:\n",
    "\n",
    "![tensor_graf](https://github.com/UCMetNum/Met-Num/blob/master/Pics/tensor.png?raw=true)\n",
    "\n",
    "Esto signfica que un tensor en tres dimensiones se puede acceder mediante sus capas:\n",
    "\n",
    "El tensor de la imagen tiene **3 capas** (o láminas), dónde **cada lámina** es una **matriz**.\n",
    "\n",
    "El tensor se debe leer en Python como:\n",
    "\n",
    "$$T_{3\\textbf{x}6\\textbf{x}6}$$\n",
    "\n",
    "Donde 3 significa tres capas y $6\\textbf{x}6$ significa que cada lámina es una matriz de tamaño $6\\textbf{x}6$"
   ]
  },
  {
   "cell_type": "markdown",
   "metadata": {},
   "source": [
    "## **Ejemplo de la vida real:**\n",
    "\n",
    "![RGB](https://image.slidesharecdn.com/tensordecomposition-170301235239/95/a-brief-survey-of-tensors-5-638.jpg)"
   ]
  },
  {
   "cell_type": "markdown",
   "metadata": {},
   "source": [
    "## Ejemplo Numérico"
   ]
  },
  {
   "cell_type": "code",
   "execution_count": 7,
   "metadata": {},
   "outputs": [
    {
     "name": "stdout",
     "output_type": "stream",
     "text": [
      "la forma del tensor T es:  (4, 3, 3) \n",
      "\n",
      "T =\n",
      " [[[ 1  2  3]\n",
      "  [ 4  5  6]\n",
      "  [ 7  8  9]]\n",
      "\n",
      " [[ 1  4  6]\n",
      "  [ 2  4  2]\n",
      "  [ 3  5  5]]\n",
      "\n",
      " [[12  4  5]\n",
      "  [ 4  5  5]\n",
      "  [ 2  3  4]]\n",
      "\n",
      " [[12  4  5]\n",
      "  [ 4  5  5]\n",
      "  [ 2  3  4]]]\n"
     ]
    }
   ],
   "source": [
    "# Importar numpy para crear mátriz de números\n",
    "import numpy as np\n",
    "\n",
    "T=np.array([\n",
    "    [[1,2,3],\n",
    "     [4,5,6],\n",
    "     [7,8,9]],\n",
    "    \n",
    "    [[1,4,6],\n",
    "     [2,4,2],\n",
    "     [3,5,5]],\n",
    "    \n",
    "    [[12,4,5],\n",
    "     [4,5,5],\n",
    "     [2,3,4]],\n",
    "    \n",
    "    [[12,4,5],\n",
    "     [4,5,5],\n",
    "     [2,3,4]]\n",
    "            ])\n",
    "print(\"la forma del tensor T es: \",T.shape,\"\\n\")\n",
    "print(\"T =\\n\" ,T)"
   ]
  },
  {
   "cell_type": "markdown",
   "metadata": {},
   "source": [
    "Para acceder a los elementos, usamos el **mismo método** de la notación de corchetes:"
   ]
  },
  {
   "cell_type": "code",
   "execution_count": 8,
   "metadata": {},
   "outputs": [
    {
     "name": "stdout",
     "output_type": "stream",
     "text": [
      "Primera capa:\n",
      "\n",
      " [[1 2 3]\n",
      " [4 5 6]\n",
      " [7 8 9]] \n",
      "\n",
      "Segunda capa:\n",
      "\n",
      " [[1 4 6]\n",
      " [2 4 2]\n",
      " [3 5 5]] \n",
      "\n",
      "Tercera capa:\n",
      "\n",
      " [[12  4  5]\n",
      " [ 4  5  5]\n",
      " [ 2  3  4]] \n",
      "\n",
      "Cuarta capa:\n",
      "\n",
      " [[12  4  5]\n",
      " [ 4  5  5]\n",
      " [ 2  3  4]] \n",
      "\n"
     ]
    }
   ],
   "source": [
    "print(\"Primera capa:\\n\\n\",T[0],\"\\n\")\n",
    "print(\"Segunda capa:\\n\\n\",T[1],\"\\n\")\n",
    "print(\"Tercera capa:\\n\\n\",T[2],\"\\n\")\n",
    "print(\"Cuarta capa:\\n\\n\",T[3],\"\\n\")"
   ]
  },
  {
   "cell_type": "code",
   "execution_count": 9,
   "metadata": {},
   "outputs": [
    {
     "name": "stdout",
     "output_type": "stream",
     "text": [
      "Primera capa T[0]:\n",
      "\n",
      " [[1 2 3]\n",
      " [4 5 6]\n",
      " [7 8 9]] \n",
      "\n",
      "Primera fila de la primera capa T[0][0]:\n",
      "\n",
      " [1 2 3] \n",
      "\n",
      "Primer elemento de la primera fila de la primera capa T[0][0][0]:\n",
      "\n",
      " 1 \n",
      "\n"
     ]
    }
   ],
   "source": [
    "print(\"Primera capa T[0]:\\n\\n\",T[0],\"\\n\")\n",
    "print(\"Primera fila de la primera capa T[0][0]:\\n\\n\",T[0][0],\"\\n\")\n",
    "print(\"Primer elemento de la primera fila de la primera capa T[0][0][0]:\\n\\n\",T[0][0][0],\"\\n\")"
   ]
  },
  {
   "cell_type": "markdown",
   "metadata": {},
   "source": [
    "Muy bien, extraigamos la primera columna de la primera capa usando el mismo procedimiento:"
   ]
  },
  {
   "cell_type": "code",
   "execution_count": 10,
   "metadata": {},
   "outputs": [
    {
     "name": "stdout",
     "output_type": "stream",
     "text": [
      "Primera capa T[0]:\n",
      "\n",
      " [[1 2 3]\n",
      " [4 5 6]\n",
      " [7 8 9]] \n",
      "\n",
      "Primera columna de la primera capa T[0][:][0]:\n",
      "\n",
      " [1 2 3] \n",
      "\n"
     ]
    }
   ],
   "source": [
    "print(\"Primera capa T[0]:\\n\\n\",T[0],\"\\n\")\n",
    "print(\"Primera columna de la primera capa T[0][:][0]:\\n\\n\",T[0][:][0],\"\\n\")"
   ]
  },
  {
   "cell_type": "markdown",
   "metadata": {},
   "source": [
    "**¿Qué ocurrió?, ¿Por qué no obtuvimos el resultado esperado?** "
   ]
  },
  {
   "cell_type": "markdown",
   "metadata": {},
   "source": [
    "## Notación por comas"
   ]
  },
  {
   "cell_type": "markdown",
   "metadata": {},
   "source": [
    "Ajá, diferenciamos entonces la diferencia entre notación entre listas y objetos de numpy:\n",
    "\n",
    "**Accederemos a los objetos de la manera \\[capa,fila, columna\\] para ver si obtenemos lo esperado:**"
   ]
  },
  {
   "cell_type": "code",
   "execution_count": 11,
   "metadata": {},
   "outputs": [
    {
     "name": "stdout",
     "output_type": "stream",
     "text": [
      "Primera capa T[0]:\n",
      "\n",
      " [[1 2 3]\n",
      " [4 5 6]\n",
      " [7 8 9]] \n",
      "\n",
      "Primera columna de la primera capa T[0][:][0]:\n",
      "\n",
      " [1 4 7] \n",
      "\n"
     ]
    }
   ],
   "source": [
    "print(\"Primera capa T[0]:\\n\\n\",T[0],\"\\n\")\n",
    "print(\"Primera columna de la primera capa T[0][:][0]:\\n\\n\",T[0,:,0],\"\\n\")"
   ]
  },
  {
   "cell_type": "markdown",
   "metadata": {},
   "source": [
    "Obteniendo el resultado esperado. O sea, ¡acceder a listas y a arreglos (array) no se hace de la misma manera!"
   ]
  },
  {
   "cell_type": "markdown",
   "metadata": {},
   "source": [
    "## Ejemplo con imágenes (Simulación)"
   ]
  },
  {
   "cell_type": "markdown",
   "metadata": {},
   "source": [
    "Ahora pongamos un ejemplo en práctica. Generemos una imagen desde numpy y veamos lo qué tiene por dentro en su contenido de **escala de grises**."
   ]
  },
  {
   "cell_type": "code",
   "execution_count": 12,
   "metadata": {},
   "outputs": [
    {
     "name": "stdout",
     "output_type": "stream",
     "text": [
      "[[[ 33 166 196 106 145 189  75 135  45 176]\n",
      "  [227 216  47 132 139  16  85 212 216 193]\n",
      "  [ 54   6 192 239 224 193   8 209 219 196]\n",
      "  [252  84  87 242 206 175 247 151  44 196]\n",
      "  [140  39 253 117 208 232 202  30 138 241]\n",
      "  [115 142 165 171  74 110 165 233  51 254]\n",
      "  [103 122  32  95  69 187 101 161 127 225]\n",
      "  [193 141 159 222 183 113  72 137 195 137]\n",
      "  [ 64 145 163 166 189  97 157 103 102 189]\n",
      "  [195   5  10  44  26 249 221  18   5 237]]\n",
      "\n",
      " [[212  26  60 140 247 252 106  69 183 142]\n",
      "  [236 167 132 231 170 160 218 126  36  46]\n",
      "  [159 125 175 182  94 117 236 122  14 237]\n",
      "  [ 68 166  40 129  10  64 228  23  90 177]\n",
      "  [196 174  54  20  77  46   9 133  30  55]\n",
      "  [149  99  96  43  44 243 189 117  75  66]\n",
      "  [ 57 157 165 174 200  90  60 170  91 238]\n",
      "  [175 224  51 209 163 254  53  22   4 190]\n",
      "  [243 112 169  42 111  86   1  50 160 111]\n",
      "  [  0 136  96 234  66   7  39  54 250  81]]\n",
      "\n",
      " [[ 49  94 178  34   7 141 163 162   6  29]\n",
      "  [163 239 174  40 184 211 131 108  47 108]\n",
      "  [202  59 146 146  94 240 180  46   1 170]\n",
      "  [ 92  72  51 141 169 104 133 252 105 170]\n",
      "  [  3 134 240 104 238  10 236 244 176 122]\n",
      "  [222 137 156 106 235 241 101 220  11 174]\n",
      "  [226  84 212 189 204  46 245  50  24 155]\n",
      "  [245 178 197 188 176 230 197  89 139  18]\n",
      "  [123 187  74 140  64 159 139 248   8  44]\n",
      "  [242  86 115  93  27 146  28 228  74  81]]]\n"
     ]
    }
   ],
   "source": [
    "import numpy as np\n",
    "I=np.random.randint(0,255,size=(3,10,10))\n",
    "print(I)"
   ]
  },
  {
   "cell_type": "code",
   "execution_count": 13,
   "metadata": {},
   "outputs": [
    {
     "data": {
      "image/png": "[encoded data removed]",
      "text/plain": [
       "<Figure size 432x288 with 1 Axes>"
      ]
     },
     "metadata": {
      "needs_background": "light"
     },
     "output_type": "display_data"
    }
   ],
   "source": [
    "import matplotlib.pyplot as plt\n",
    "\n",
    "plt.imshow(I.T)\n",
    "plt.show()"
   ]
  },
  {
   "cell_type": "markdown",
   "metadata": {},
   "source": [
    "## Ejemplo con imágenes (Reales)"
   ]
  },
  {
   "cell_type": "markdown",
   "metadata": {},
   "source": [
    "### Black&White (B/W) Images\n",
    "\n",
    "Cuando hablamos de una imagen en escala de grises, podemos hablar no de un tensor, si no más bien de una matriz, donde 0 es ausencia de color (negro) y 255 es total color(blanco).\n",
    "\n",
    "Veámos el siguiente ejemplo:"
   ]
  },
  {
   "cell_type": "code",
   "execution_count": 14,
   "metadata": {},
   "outputs": [
    {
     "data": {
      "image/png": "[encoded data removed]",
      "text/plain": [
       "<Figure size 432x288 with 1 Axes>"
      ]
     },
     "metadata": {
      "needs_background": "light"
     },
     "output_type": "display_data"
    }
   ],
   "source": [
    "from PIL import Image\n",
    "\n",
    "I=Image.open(\"/home/daniel/Pictures/boot.png\").convert(\"L\")\n",
    "plt.imshow(I,cmap=\"gray\")\n",
    "plt.show()"
   ]
  },
  {
   "cell_type": "code",
   "execution_count": 15,
   "metadata": {},
   "outputs": [
    {
     "name": "stdout",
     "output_type": "stream",
     "text": [
      "\n",
      "La imagen tiene forma:  (18, 18) \n",
      "\n",
      "[[255 255 255 255 255 255 255 255 255 255 255 255 255 255 255 255 255 255]\n",
      " [255 255 255 255 255 255 255 255 255 250 178 254 255 255 255 255 255 255]\n",
      " [255 255 255 255 255 255 255 254 253 190 128 203 251 253 253 252 252 251]\n",
      " [255 255 255 255 255 255 255 255 254  79  51 156  99 146 185 172 119 239]\n",
      " [255 255 255 255 255 255 254 255 200  37  39  44  88 132 132 110 162 191]\n",
      " [255 255 255 255 255 255 255 255  69  34  28  19  32  31  32  34   7 255]\n",
      " [255 255 255 255 255 255 253 255  60  33  36  75  44  43  40  35   1 253]\n",
      " [255 255 255 255 255 255 250 190   9  33  36  57  32  41  29  16 136 196]\n",
      " [255 255 251 252 255 254 254 219  14  26  26  17  43  32  25  36  42 253]\n",
      " [252 255 255 254 251 186 108  34  52  43  35  48  41  33  34  36  20 253]\n",
      " [232 210 188 152 121  34  43  44  58  47  51  20  19  48  15  26  18 255]\n",
      " [ 60  26  34  45  39  52  50  24 181  80  24  69  94  38  53  36  26 255]\n",
      " [ 15  46  30  25  20  37  63  38  20 190 151  83  36  40  40  33  34 234]\n",
      " [ 50  63  45  65  67  65  52  37  35  30  29  64  48  72  81  78  53 141]\n",
      " [124  47  71  82  57  45  41  46  47  58  60  59  62  64  76  92  82 156]\n",
      " [255 255 186  45  22  14   6  14  34  39  63  75  76  80  89 161 199 255]\n",
      " [255 255 255 255 231 226 209 232 253 255 255 255 255 255 255 255 255 255]\n",
      " [255 255 255 255 255 255 255 255 255 255 255 255 255 255 255 255 255 255]]\n"
     ]
    }
   ],
   "source": [
    "Idata=np.array(I)\n",
    "print(\"\\nLa imagen tiene forma: \",Idata.shape,\"\\n\")\n",
    "print(Idata)"
   ]
  },
  {
   "cell_type": "markdown",
   "metadata": {},
   "source": [
    "### Imágenes a Color\n",
    "\n",
    "Por supuesto, no ocurre lo mismo para imágenes a color, pues estas tienen 3 capas de color **RGB** (Red, Green Blue).\n",
    "\n",
    "**Ejemplo:**"
   ]
  },
  {
   "cell_type": "code",
   "execution_count": 16,
   "metadata": {},
   "outputs": [
    {
     "data": {
      "image/png": "[encoded data removed]",
      "text/plain": [
       "<Figure size 432x288 with 1 Axes>"
      ]
     },
     "metadata": {
      "needs_background": "light"
     },
     "output_type": "display_data"
    }
   ],
   "source": [
    "from PIL import Image\n",
    "\n",
    "I=Image.open(\"/home/daniel/Pictures/yep2.png\").convert(\"RGB\")\n",
    "plt.imshow(I)\n",
    "plt.show()"
   ]
  },
  {
   "cell_type": "code",
   "execution_count": 17,
   "metadata": {},
   "outputs": [
    {
     "name": "stdout",
     "output_type": "stream",
     "text": [
      "\n",
      "La imagen tiene forma:  (18, 18, 3) \n",
      "\n",
      "\n",
      "Escala de Rojos:\n",
      "\n",
      " [[255 255 255 255 255 255 255 255 255 255 255 255 255 255 255 255 255]\n",
      " [255 255 255 255 255 255 255 255 255 255 255 255 255 255 255 255 255]\n",
      " [255 255 255 255 255 255 255 255 255 255 255 255 255 255 255 255 255]\n",
      " [255 255 255 255 255 255 255 255 255 255 255 255 255 255 255 255 255]\n",
      " [255 255 255 255 255 255 139  87 231 255 255 255 255 156  85 215 255]\n",
      " [255 255 255 255 255 255 194 158 246 255 255 255 255 204 156 238 255]\n",
      " [255 255 255 255 255 255 255 255 255 255 255 255 255 255 255 255 255]\n",
      " [255 255 255 255 255 255 255 255 255 255 255 255 255 255 255 255 255]\n",
      " [255 255 255 255 255 255 255 255 250 240 246 255 255 255 255 255 255]\n",
      " [255 255 255 255 255 251 158  71  30  25  27  53 124 232 255 255 255]\n",
      " [255 255 255 255 249  87  51 153 209 227 218 177  83  45 217 255 255]\n",
      " [255 255 255 255 153  55 236 255 255 255 255 255 254 111  79 255 255]\n",
      " [255 255 255 255 130 168 255 255 255 255 255 255 255 229  73 253 255]\n",
      " [255 255 255 255 255 255 255 255 255 255 255 255 255 255 255 255 255]\n",
      " [255 255 255 255 255 255 255 255 255 255 255 255 255 255 255 255 255]\n",
      " [255 255 255 255 255 255 255 255 255 255 255 255 255 255 255 255 255]\n",
      " [255 255 255 255 255 255 255 255 255 255 255 255 255 255 255 255 255]] \n",
      "\n",
      "\n",
      "Escala de Verdes:\n",
      "\n",
      " [[255 255 255 255 255 242 227 217 213 213 217 227 242 255 255 255 255]\n",
      " [255 255 255 248 221 212 212 212 212 212 212 212 212 221 248 255 255]\n",
      " [255 255 241 214 212 212 212 212 212 212 212 212 212 212 214 244 255]\n",
      " [255 244 207 212 212 212 212 212 212 212 212 212 212 212 212 214 248]\n",
      " [254 203 211 218 244 244 128  76 192 212 215 243 244 145  75 180 221]\n",
      " [235 192 212 214 230 231 170 134 205 212 213 230 231 180 132 198 212]\n",
      " [211 195 212 212 212 212 212 212 212 212 212 212 212 212 212 212 212]\n",
      " [196 194 212 212 212 212 212 212 212 212 212 212 212 212 212 212 212]\n",
      " [189 191 212 212 212 212 212 212 208 200 205 212 212 212 212 212 212]\n",
      " [189 188 209 212 212 209 133  63  30  25  27  48 106 194 212 212 212]\n",
      " [196 188 200 212 208  76  47 130 175 190 182 149  73  42 182 212 212]\n",
      " [211 188 189 210 129  49 197 211 195 190 196 211 211  95  69 212 212]\n",
      " [235 188 188 195 111 142 212 211 200 205 199 211 212 191  64 210 212]\n",
      " [254 202 188 188 196 211 212 212 212 212 212 212 212 212 212 212 219]\n",
      " [255 244 191 188 188 192 207 212 212 212 212 212 212 212 210 202 244]\n",
      " [255 255 237 191 188 188 188 194 201 206 208 207 204 197 193 237 255]\n",
      " [255 255 255 244 202 188 188 188 188 188 188 188 188 203 244 255 255]] \n",
      "\n",
      "\n",
      "Escala de Azules:\n",
      "\n",
      " [[255 255 255 255 254 192 117  68  46  46  69 117 192 254 255 255 255]\n",
      " [255 255 255 219  87  42  42  42  42  42  42  42  42  87 219 255 255]\n",
      " [255 255 197  52  42  42  42  42  42  42  42  42  42  42  52 198 255]\n",
      " [255 218  52  42  42  42  42  42  42  42  42  42  42  42  42  52 220]\n",
      " [253  86  42  72 197 199  85  31  41  42  59 194 199 101  31  40  87]\n",
      " [191  42  42  54 133 134  74  37  42  42  48 130 134  84  37  41  42]\n",
      " [116  42  42  42  42  42  42  42  42  42  42  42  42  42  42  42  42]\n",
      " [ 68  42  42  42  42  42  42  42  42  42  42  42  42  42  42  42  42]\n",
      " [ 45  42  42  42  42  42  42  42  42  41  41  42  42  42  42  42  42]\n",
      " [ 45  42  42  42  42  42  35  29  26  26  26  28  33  40  42  42  42]\n",
      " [ 67  42  42  42  42  30  28  35  39  40  39  37  30  27  39  42  42]\n",
      " [115  42  42  42  35  28  41  42  42  42  42  42  42  32  30  42  42]\n",
      " [191  42  42  42  33  36  42  42  42  42  42  42  42  40  29  42  42]\n",
      " [253  86  42  42  42  42  42  42  42  42  42  42  42  42  42  42  88]\n",
      " [255 219  52  42  42  42  42  42  42  42  42  42  42  42  42  52 220]\n",
      " [255 255 198  52  42  42  42  42  42  42  42  42  42  42  52 199 255]\n",
      " [255 255 255 219  86  42  42  42  42  42  42  42  42  87 220 255 255]] \n",
      "\n"
     ]
    }
   ],
   "source": [
    "Idata=np.array(I)\n",
    "print(\"\\nLa imagen tiene forma: \",Idata.shape,\"\\n\")\n",
    "print(\"\\nEscala de Rojos:\\n\\n\",Idata[:17,:17,0],\"\\n\")\n",
    "print(\"\\nEscala de Verdes:\\n\\n\",Idata[:17,:17,1],\"\\n\")\n",
    "print(\"\\nEscala de Azules:\\n\\n\",Idata[:17,:17,2],\"\\n\")"
   ]
  },
  {
   "cell_type": "markdown",
   "metadata": {},
   "source": [
    "**Note: La forma en que Pillow importó los datos fue de forma no estandar, haciendo (filas,columnas,capas).**\n",
    "\n",
    "Ahora que hemos **visto la matrix**, veamos cómo se vería esta imagen en cada una de sus capas:"
   ]
  },
  {
   "cell_type": "code",
   "execution_count": 18,
   "metadata": {},
   "outputs": [
    {
     "data": {
      "image/png": "[encoded data removed]",
      "text/plain": [
       "<Figure size 1080x1080 with 3 Axes>"
      ]
     },
     "metadata": {
      "needs_background": "light"
     },
     "output_type": "display_data"
    }
   ],
   "source": [
    "fig, (ax1, ax2,ax3) = plt.subplots(1, 3,figsize=(15,15))\n",
    "\n",
    "ax1.imshow(Idata[:,:,0],cmap=\"Reds\")\n",
    "ax1.set_xlabel('Red')\n",
    "ax2.imshow(Idata[:,:,1],cmap=\"Greens\")\n",
    "ax2.set_xlabel('Green')\n",
    "ax3.imshow(Idata[:,:,2],cmap=\"Blues\")\n",
    "ax3.set_xlabel('Blue')\n",
    "plt.show()"
   ]
  }
 ],
 "metadata": {
  "kernelspec": {
   "display_name": "Python 3",
   "language": "python",
   "name": "python3"
  },
  "language_info": {
   "codemirror_mode": {
    "name": "ipython",
    "version": 3
   },
   "file_extension": ".py",
   "mimetype": "text/x-python",
   "name": "python",
   "nbconvert_exporter": "python",
   "pygments_lexer": "ipython3",
   "version": "3.7.6"
  }
 },
 "nbformat": 4,
 "nbformat_minor": 4
}
