{
 "cells": [
  {
   "cell_type": "markdown",
   "metadata": {
    "colab_type": "text",
    "id": "-MlSHN16Bg8-"
   },
   "source": [
    "# Tipos de Datos\n",
    "\n"
   ]
  },
  {
   "cell_type": "markdown",
   "metadata": {
    "colab_type": "text",
    "id": "Qwzm74tvByHP"
   },
   "source": [
    "En programación, los **tipos de datos** son un concepto muy importante.\n",
    "\n",
    "Las variables pueden contener distintos tipos de datos, y estos tipos pueden hacer distintas cosas.\n",
    "\n",
    "En Python, existen diferentes tipos de datos por defecto:\n",
    "\n",
    "* **Texto:**  *str.*\n",
    "* **Numérico:**  *int, float, complex.*\n",
    "* **Sequencial:**  *list, tuple, range.*\n",
    "* **Mapping:**  *dict.*\n",
    "* **Conjunto:**  *set, frozenset.*\n",
    "* **Booleano:**  *bool*\n",
    "* **Binario:**  *bytes, bytearray, memoryview.*\n"
   ]
  },
  {
   "cell_type": "markdown",
   "metadata": {
    "colab_type": "text",
    "id": "G0azTyRzledS"
   },
   "source": [
    "## Obtener el tipo de Dato de Una Variable\n",
    "\n",
    "Para esto, se usa el comando **type**:"
   ]
  },
  {
   "cell_type": "code",
   "execution_count": 1,
   "metadata": {
    "colab": {
     "base_uri": "https://localhost:8080/",
     "height": 238
    },
    "colab_type": "code",
    "executionInfo": {
     "elapsed": 11,
     "status": "ok",
     "timestamp": 1567723950352,
     "user": {
      "displayName": "Daniel Montenegro",
      "photoUrl": "",
      "userId": "07275166318289302366"
     },
     "user_tz": 300
    },
    "id": "pWF-PQsLlZm2",
    "outputId": "96ec6334-2e86-4c74-949f-90ebdecd7287"
   },
   "outputs": [
    {
     "name": "stdout",
     "output_type": "stream",
     "text": [
      "<class 'int'>\n",
      "<class 'float'>\n",
      "<class 'complex'>\n",
      "<class 'list'>\n",
      "<class 'tuple'>\n",
      "<class 'range'>\n",
      "<class 'dict'>\n",
      "<class 'set'>\n",
      "<class 'frozenset'>\n",
      "<class 'bool'>\n",
      "<class 'bytes'>\n",
      "<class 'bytearray'>\n",
      "<class 'memoryview'>\n"
     ]
    }
   ],
   "source": [
    "x = 5;\n",
    "print(type(x));\n",
    "\n",
    "x = 5.9\n",
    "print(type(x));\n",
    "\n",
    "x = 5j\n",
    "print(type(x));\n",
    "\n",
    "x = [\"Hey\", \"Let's go\"]\n",
    "print(type(x));\n",
    "\n",
    "x = (\"Hey\", \"Let's go\")\n",
    "print(type(x));\n",
    "\n",
    "x = range(5)\n",
    "print(type(x));\n",
    "\n",
    "x = {\"name\" : \"Daniel\", \"age\" : 28}\n",
    "print(type(x));\n",
    "\n",
    "x = {\"Daniel\",28, 45.6}\n",
    "print(type(x));\n",
    "\n",
    "x = frozenset({\"Daniel\",28, 45.6})\n",
    "print(type(x));\n",
    "\n",
    "x = True\n",
    "print(type(x));\n",
    "\n",
    "x = b\"Matrix\"\n",
    "print(type(x));\n",
    "\n",
    "x = bytearray(5)\n",
    "print(type(x));\n",
    "\n",
    "x = memoryview(bytes(5))\n",
    "print(type(x));"
   ]
  },
  {
   "cell_type": "markdown",
   "metadata": {
    "colab_type": "text",
    "id": "dUOgiGiyoPyy"
   },
   "source": [
    "Es decir, Python asume el tipo de variable sin tener que definirla explícitamente."
   ]
  }
 ],
 "metadata": {
  "colab": {
   "collapsed_sections": [
    "scclT03UHVrm",
    "qAqnr4i70sLy",
    "OqFH478Xza5l"
   ],
   "name": "1.1 Introducción a Python.ipynb",
   "provenance": [],
   "version": "0.3.2"
  },
  "kernelspec": {
   "display_name": "Python 3",
   "language": "python",
   "name": "python3"
  },
  "language_info": {
   "codemirror_mode": {
    "name": "ipython",
    "version": 3
   },
   "file_extension": ".py",
   "mimetype": "text/x-python",
   "name": "python",
   "nbconvert_exporter": "python",
   "pygments_lexer": "ipython3",
   "version": "3.7.6"
  }
 },
 "nbformat": 4,
 "nbformat_minor": 4
}
