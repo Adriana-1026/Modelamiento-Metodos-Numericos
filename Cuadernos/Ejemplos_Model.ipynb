{
 "cells": [
  {
   "cell_type": "markdown",
   "metadata": {},
   "source": [
    "# Ejemplos de Modelos\n",
    "\n",
    "Ahora que hemos visto el gran potencial de lo que significa modelar, ejemplifiquemos diferentes modelos que han aparecido a lo largo de la historia.\n",
    "\n",
    "## 1. Modelos Determinísticos\n",
    "\n",
    "El primer modelo matemático existente podría considerarse como la abstracción de los números para aprender a contar:\n",
    "\n",
    "\n",
    "\n",
    "<center>\n",
    "<div class=\"row\">\n",
    "<img src=\"http://clipart-library.com/images/kcKBedyni.png\" height = 300 width=300 />\n",
    "<img src=\"https://www.lifewire.com/thmb/WKZwbDsAToM9wjmKCStWg1BEMbE=/768x0/filters:no_upscale():max_bytes(150000):strip_icc():format(webp)/U21C6.svg-5c5c5c52c9e77c0001d92a41.png\" height = 100 width=150 />\n",
    "<img src=\"https://upload.wikimedia.org/wikipedia/commons/thumb/3/37/Example_of_a_set.svg/800px-Example_of_a_set.svg.png\" height = 250 width=200 />\n",
    "</div>\n",
    "</center>\n",
    "<br></br>\n",
    "\n",
    "En este modelo, la idea era poder representar los objetos de la vida cotidiana como símbolos (en lo posible fáciles de manipular) para poder aumentar nuestra capacidad de cálculo y por lo tanto el **poder de predecir**.\n",
    "\n",
    "Muchos siglos después, se desarrollaría un modelo basado en modelos matemáticos: **Física**.\n",
    "\n",
    "El objetivo de la física sería usar estos modelos matemáticos ya desarrollados para poder predecir cosas útiles sobre el mundo real.\n",
    "\n",
    "Por ejemplo, anteriormente, cuando ocurrían eclipses solares, lunares o pasaba algún cometa cerca de la tierra, muchas culturas lo consideraban como un **castigo de los dioses**, pues no tenían un entendimiento suficiente sobre lo que estaba ocurriendo; en otras palabras era un acontecimiento **sobrenatural**.\n",
    "\n",
    "## Modelos Determinísticos\n",
    "\n",
    "La primera persona en tratar de romper estos mitos (uno de ellos, muy aclamado en el momento, era que todo el cosmos giraba alrededor de la tierra) fue el personaje a continuación:\n",
    "\n",
    "<img src=\"https://upload.wikimedia.org/wikipedia/commons/d/d4/Justus_Sustermans_-_Portrait_of_Galileo_Galilei%2C_1636.jpg\" height = 300 width=500 />"
   ]
  },
  {
   "cell_type": "markdown",
   "metadata": {},
   "source": [
    "## Ecuaciones de Movimiento (Cinemática):\n",
    "\n",
    "Comencemos a pensar sobre el mundo real.\n",
    "\n",
    "¿Qué podemos decir sobre los objetos que caen?\n",
    "\n",
    "¿Existe alguna fuerza invisible que los atrae contra el suelo cómo si de hilos mágicos se tratase?\n",
    "\n",
    "**Pregunta: ¿Qué cae más rápido al suelo?**\n",
    "\n",
    "![Plumita](https://steemitimages.com/DQmTwoKJXYSzr9wHSRx5sdNwiPbH5YrB2amBR2CPadVzV2i/p051dk5h.jpg)\n"
   ]
  },
  {
   "cell_type": "code",
   "execution_count": 1,
   "metadata": {},
   "outputs": [
    {
     "data": {
      "image/jpeg": "[encoded data removed]",
      "text/html": [
       "\n",
       "        <iframe\n",
       "            width=\"600\"\n",
       "            height=\"400\"\n",
       "            src=\"https://www.youtube.com/embed/KDp1tiUsZw8\"\n",
       "            frameborder=\"0\"\n",
       "            allowfullscreen\n",
       "        ></iframe>\n",
       "        "
      ],
      "text/plain": [
       "<IPython.lib.display.YouTubeVideo at 0x1dd79897748>"
      ]
     },
     "execution_count": 1,
     "metadata": {},
     "output_type": "execute_result"
    }
   ],
   "source": [
    "#@title **Respuesta:** { display-mode: \"form\" }\n",
    "\n",
    "from IPython.display import YouTubeVideo\n",
    "YouTubeVideo('KDp1tiUsZw8', width=600, height=400)\n",
    "\n",
    "# Same in Markdown\n",
    "\n",
    "# [![Nasa](http://img.youtube.com/vi/KDp1tiUsZw8/0.jpg)](http://www.youtube.com/watch?v=KDp1tiUsZw8 \"Feather-Hammer\")"
   ]
  },
  {
   "cell_type": "markdown",
   "metadata": {},
   "source": [
    "**Asumamos** entonces que aquella fuerza invisible que atrae los objetos al suelo es una constante y llamémosla $g$.\n",
    "\n",
    "Ahora, analicemos lo siguiente de la naturaleza:\n",
    "\n",
    "- **Percibimos** el **movimiento** de los objetos.\n",
    "- Sabemos medir **distancias** (Gracias a los números).\n",
    "- Percibimos el **tiempo**.\n",
    "- Podemos **percibir y medir** el cambio de la distancia a través del tiempo (Velocidad).\n",
    "- Podemos percibir y medir el **cambio de la velocidad** en el tiempo (Aceleración).\n",
    "\n",
    "De Cálculo básico sabemos que:\n",
    "\n",
    "$$a=-g$$\n",
    "\n",
    "Recordemos que $a=\\frac{dv}{dt}$. Entonces, integrando obtenemos:\n",
    "\n",
    "$$v(t)=-gt+C$$\n",
    "\n",
    "**Consejo para la vida:** La cosas **siempre** tienen una condición inicial. Por ejemplo,\n",
    "\n",
    "$$v(0)=v_o$$\n",
    "\n",
    "Por lo tanto,\n",
    "\n",
    "$$v(t)= v_{o}-gt$$\n",
    "\n",
    "Usando un proceso similar (**Tarea**), llegamos a que\n",
    "\n",
    "$$x(t) = x_o+v_o t -\\frac{1}{2}gt^2 $$\n",
    "\n",
    "Combinando las anteriores ecuaciones tenemos el siguiente conjunto total (**Tarea**):\n",
    "\n",
    "1. $v(t)=v_o-gt$\n",
    "2. $x(t) = x_o+v_o t -\\frac{1}{2}gt^2 $\n",
    "3. $v^2(t) = v_{o}^2 -2g(x(t)-x_o)$\n",
    "\n",
    "Estas ecuaciones fueron las primeras ecuaciones que pretendían predecir los movimientos de los objetos, y fueron aquellas usadas por Galileo Galilei para pensar sobre la trayectoria de los objetos.\n",
    "\n",
    "Gracias a este pensamiento, fue posible salir de la oscuridad y concluir que **sólo somos un pálido punto girando alrededor de otro pequeño punto dentro de un vasto cosmos.**"
   ]
  },
  {
   "cell_type": "markdown",
   "metadata": {},
   "source": [
    "# Leyes de Newton\n",
    "\n",
    "Otro caso de éxito, fueron las famosas ecuaciones de Isaac Newton. Tan poderosas que con ellas fuimos capaces de ir a la Luna y volver con vida.\n",
    "\n",
    "Tal vez, la más importante es la segunda:\n",
    "\n",
    "$$F=ma$$\n",
    "\n",
    "Volviendo a escribir dicha ecuación en términos de ecuaciones diferenciales, tenemos:\n",
    "\n",
    "$$F=m\\frac{d^2 x}{dt}$$\n",
    "\n",
    "O sea, despejando, tenemos:\n",
    "\n",
    "$$\\frac{d^2 x}{dt}=\\frac{F}{m}$$\n",
    "\n",
    "En los cursos de física básica, muchas veces las fuerzas son constantes, pero en general, las fuerzas pueden cambiar en el tiempo. \n",
    "\n",
    "En otras palabras, tenemos la siguiente ecuación diferencial:\n",
    "\n",
    "$$\\begin{equation}\n",
    "\\frac{d^2 x}{dt}=\\frac{F(t,x,v)}{m}\n",
    "\\end{equation}$$\n",
    "\n",
    "Que quiere decir que la **Fuerza ejercida en un objeto puede depender tanto del tiempo como de la posición y de la velocidad**.\n",
    "\n",
    "El objetivo general de modelamiento es poder escribir dicha ecuación  (es decir, describir la forma que tiene la fuerza) y resolver la ecuación resultante."
   ]
  },
  {
   "cell_type": "markdown",
   "metadata": {},
   "source": [
    "# Modelos Lineales\n",
    "\n",
    "No todos los modelos son ecuaciones diferenciales. A veces, es posible modelar problemas que no cambian en el tiempo cuando las condiciones de un problema no cambian en el tiempo.\n",
    "\n",
    "Todos estos problemas **se pueden modelar** como\n",
    "\n",
    "$$A\\vec{x}=\\vec{b}$$\n",
    "\n",
    "es decir, como un sistema de ecuaciones lineales.\n",
    "\n",
    "Estamos entonces en el ámbito del **Álgebra Lineal**.\n",
    "\n",
    "**Ejemplo:**\n",
    "\n",
    "Supongamos que en una empresa se fabrican **100 productos** y trabajan **100 empleados** diferentes. \n",
    "\n",
    "Si pudieramos registrar cúantas horas se demora cada uno de los empleados en fabricar cada uno de los productos, podríamos, fijando ciertas horas de trabajo laboral en un contrato, podemos resumir la información en la siguiente tabla:\n",
    "\n",
    "|Emp\\Prod|$x_1$|$x_2$|$\\dots$|$x_{100}$|\n",
    "|---|---|---|---|---|\n",
    "|$$E_1$$|3|4|$\\dots$|7|\n",
    "|$$E_2$$|2|5|$\\dots$|8|\n",
    "|$$\\vdots$$|$\\vdots$|$\\vdots$|$\\dots$|$\\vdots$|\n",
    "|$$E_{100}$$|1|8|$\\dots$|2|\n",
    "\n",
    "O sea, podemos generar la siguiente matriz:\n",
    "\n",
    "$$E = \\begin{bmatrix}\n",
    "3 & 4 & \\dots & 7\\\\\n",
    "2 & 5 & \\dots & 8\\\\\n",
    "\\vdots & \\vdots & \\dots & \\vdots\\\\\n",
    "1 & 8 & \\dots & 2\n",
    "\\end{bmatrix}_{100x100}$$\n",
    "\n",
    "Si fijamos las horas totales de trabajo por empleado y llamamos a dichas horas el vector $\\vec{b}$, podemos construir el siguiente **modelo**:\n",
    "\n",
    "$$E\\vec{x}=\\vec{b}$$\n",
    "\n",
    "Entonces, si **queremos saber cuántos productos son capaces de producir los empleados de cada producto, debemos solucionar dicho sistema de ecuaciones**.\n",
    "<br></br>\n",
    "\n",
    "**Recuerde:**\n",
    "\n",
    "Un sistema tiene sólo tres opciones:\n",
    "\n",
    "- Tiene solución:\n",
    " - Solución Única.\n",
    " - Infinitas Soluciones.\n",
    "- No tiene solución (**inconsistente**).\n",
    "\n",
    "**Supongamos** que tiene solución única. La solución se escribe como\n",
    "\n",
    "$$\\vec{x}=E^{-1} \\text{ }\\vec{b}$$"
   ]
  },
  {
   "cell_type": "markdown",
   "metadata": {},
   "source": [
    "## Ejercicio 1\n",
    "\n",
    "Realice un código que haga lo siguiente:\n",
    "\n",
    "- Genere una matriz de números aleatorios enteros $100x100$ y un vector de números aleatorios para solucionar el problema anterior.\n",
    "- Interprete las soluciones.\n",
    "- Generalice el problema a matrices rectangulares.\n",
    "- ¿Qué ocurre si un sistema no tiene solución?\n",
    "- ¿Y si tiene infinitas soluciones?"
   ]
  },
  {
   "cell_type": "markdown",
   "metadata": {},
   "source": [
    "# Ecuaciones Diferenciales Parciales"
   ]
  },
  {
   "cell_type": "markdown",
   "metadata": {},
   "source": [
    "# Modelos Estocásticos"
   ]
  },
  {
   "cell_type": "markdown",
   "metadata": {},
   "source": [
    "## Modelos Estadísticos:"
   ]
  },
  {
   "cell_type": "markdown",
   "metadata": {},
   "source": [
    "## Ejercicio 2"
   ]
  }
 ],
 "metadata": {
  "kernelspec": {
   "display_name": "Python 3",
   "language": "python",
   "name": "python3"
  },
  "language_info": {
   "codemirror_mode": {
    "name": "ipython",
    "version": 3
   },
   "file_extension": ".py",
   "mimetype": "text/x-python",
   "name": "python",
   "nbconvert_exporter": "python",
   "pygments_lexer": "ipython3",
   "version": "3.7.1"
  }
 },
 "nbformat": 4,
 "nbformat_minor": 4
}
